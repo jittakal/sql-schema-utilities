{
 "cells": [
  {
   "cell_type": "markdown",
   "id": "4a14a98c",
   "metadata": {},
   "source": [
    "# Data Retrieval Notebook for Table: Track"
   ]
  },
  {
   "cell_type": "code",
   "execution_count": null,
   "id": "e631690c",
   "metadata": {},
   "outputs": [],
   "source": [
    "# Import required library packages\n",
    "import base64\n",
    "import pandas as pd\n",
    "from sqlalchemy import create_engine, text\n"
   ]
  },
  {
   "cell_type": "code",
   "execution_count": null,
   "id": "b01c9659",
   "metadata": {},
   "outputs": [],
   "source": [
    "# Connection details\n",
    "connection_string = b'<<generated-base64-string>>'\n"
   ]
  },
  {
   "cell_type": "code",
   "execution_count": null,
   "id": "acf9f387",
   "metadata": {},
   "outputs": [],
   "source": [
    "# Establish the connection\n",
    "engine = create_engine(base64.b64decode(connection_string).decode(\"ascii\"))\n"
   ]
  },
  {
   "cell_type": "code",
   "execution_count": null,
   "id": "a8a09d29",
   "metadata": {},
   "outputs": [],
   "source": [
    "# Format SQL Query\n",
    "def format_sql_query(query):\n",
    "    formatted_query = sqlparse.format(query, reindent=True, keyword_case=\"upper\")\n",
    "    return formatted_query.strip()\n"
   ]
  },
  {
   "cell_type": "code",
   "execution_count": null,
   "id": "f4a6baf0",
   "metadata": {},
   "outputs": [],
   "source": [
    "# Execute Select Query\n",
    "def exec_sql_query(sql=None, con=engine, params=None):\n",
    "    df = pd.read_sql_query(sql=text(query), con=engine, params=params)\n",
    "    df_filtered = df.dropna(axis=1, how='all')\n",
    "    return (df, df_filtered)\n"
   ]
  },
  {
   "cell_type": "code",
   "execution_count": null,
   "id": "8cd513fd",
   "metadata": {},
   "outputs": [],
   "source": [
    "# Parameter variables for Track\n",
    "MediaTypeId = ''\n",
    "GenreId = ''\n",
    "TrackId = ''\n",
    "AlbumId = ''"
   ]
  },
  {
   "cell_type": "markdown",
   "id": "eab2b011",
   "metadata": {},
   "source": [
    "```sql\n",
    "SELECT *\n",
    "FROM Track\n",
    "LIMIT 10;\n",
    "```"
   ]
  },
  {
   "cell_type": "code",
   "execution_count": null,
   "id": "f46e4896",
   "metadata": {},
   "outputs": [],
   "source": [
    "# Query for Track\n",
    "query = \\\n",
    "\"\"\"\n",
    "SELECT *\n",
    "FROM Track\n",
    "LIMIT 10;\n",
    "\"\"\"\n"
   ]
  },
  {
   "cell_type": "code",
   "execution_count": null,
   "id": "cb198345",
   "metadata": {},
   "outputs": [],
   "source": [
    "# Parameters for Track\n",
    "parameters = {}"
   ]
  },
  {
   "cell_type": "code",
   "execution_count": null,
   "id": "1f3a86e9",
   "metadata": {},
   "outputs": [],
   "source": [
    "# Execute sql query and display\n",
    "df, df_filtered = exec_sql_query(sql=text(query), con=engine, params=parameters)\n"
   ]
  },
  {
   "cell_type": "code",
   "execution_count": null,
   "id": "2b104440",
   "metadata": {},
   "outputs": [],
   "source": [
    "# Display information\n",
    "df_filtered.head()\n"
   ]
  },
  {
   "cell_type": "markdown",
   "id": "ab773922",
   "metadata": {},
   "source": [
    "```sql\n",
    "SELECT *\n",
    "FROM Track\n",
    "WHERE AlbumId = :AlbumId;\n",
    "```"
   ]
  },
  {
   "cell_type": "code",
   "execution_count": null,
   "id": "a58ee413",
   "metadata": {},
   "outputs": [],
   "source": [
    "# Query for Track\n",
    "query = \\\n",
    "\"\"\"\n",
    "SELECT *\n",
    "FROM Track\n",
    "WHERE AlbumId = :AlbumId;\n",
    "\"\"\"\n"
   ]
  },
  {
   "cell_type": "code",
   "execution_count": null,
   "id": "c587b5ee",
   "metadata": {},
   "outputs": [],
   "source": [
    "# Parameters for Track\n",
    "parameters = {\"AlbumId\": AlbumId}"
   ]
  },
  {
   "cell_type": "code",
   "execution_count": null,
   "id": "2626a4be",
   "metadata": {},
   "outputs": [],
   "source": [
    "# Execute sql query and display\n",
    "df, df_filtered = exec_sql_query(sql=text(query), con=engine, params=parameters)\n"
   ]
  },
  {
   "cell_type": "code",
   "execution_count": null,
   "id": "847c1d2e",
   "metadata": {},
   "outputs": [],
   "source": [
    "# Display information\n",
    "df_filtered.head()\n"
   ]
  },
  {
   "cell_type": "markdown",
   "id": "56740b44",
   "metadata": {},
   "source": [
    "```sql\n",
    "SELECT *\n",
    "FROM Track\n",
    "WHERE MediaTypeId = :MediaTypeId;\n",
    "```"
   ]
  },
  {
   "cell_type": "code",
   "execution_count": null,
   "id": "7ac9aa5b",
   "metadata": {},
   "outputs": [],
   "source": [
    "# Query for Track\n",
    "query = \\\n",
    "\"\"\"\n",
    "SELECT *\n",
    "FROM Track\n",
    "WHERE MediaTypeId = :MediaTypeId;\n",
    "\"\"\"\n"
   ]
  },
  {
   "cell_type": "code",
   "execution_count": null,
   "id": "740cd2a3",
   "metadata": {},
   "outputs": [],
   "source": [
    "# Parameters for Track\n",
    "parameters = {\"MediaTypeId\": MediaTypeId}"
   ]
  },
  {
   "cell_type": "code",
   "execution_count": null,
   "id": "e1fa44c0",
   "metadata": {},
   "outputs": [],
   "source": [
    "# Execute sql query and display\n",
    "df, df_filtered = exec_sql_query(sql=text(query), con=engine, params=parameters)\n"
   ]
  },
  {
   "cell_type": "code",
   "execution_count": null,
   "id": "cd4e2232",
   "metadata": {},
   "outputs": [],
   "source": [
    "# Display information\n",
    "df_filtered.head()\n"
   ]
  },
  {
   "cell_type": "markdown",
   "id": "a8983497",
   "metadata": {},
   "source": [
    "```sql\n",
    "SELECT *\n",
    "FROM Track\n",
    "WHERE GenreId = :GenreId;\n",
    "```"
   ]
  },
  {
   "cell_type": "code",
   "execution_count": null,
   "id": "58698bc2",
   "metadata": {},
   "outputs": [],
   "source": [
    "# Query for Track\n",
    "query = \\\n",
    "\"\"\"\n",
    "SELECT *\n",
    "FROM Track\n",
    "WHERE GenreId = :GenreId;\n",
    "\"\"\"\n"
   ]
  },
  {
   "cell_type": "code",
   "execution_count": null,
   "id": "e7fca5a4",
   "metadata": {},
   "outputs": [],
   "source": [
    "# Parameters for Track\n",
    "parameters = {\"GenreId\": GenreId}"
   ]
  },
  {
   "cell_type": "code",
   "execution_count": null,
   "id": "ae2c179d",
   "metadata": {},
   "outputs": [],
   "source": [
    "# Execute sql query and display\n",
    "df, df_filtered = exec_sql_query(sql=text(query), con=engine, params=parameters)\n"
   ]
  },
  {
   "cell_type": "code",
   "execution_count": null,
   "id": "24861bc9",
   "metadata": {},
   "outputs": [],
   "source": [
    "# Display information\n",
    "df_filtered.head()\n"
   ]
  },
  {
   "cell_type": "markdown",
   "id": "533197df",
   "metadata": {},
   "source": [
    "```sql\n",
    "SELECT *\n",
    "FROM Track\n",
    "WHERE TrackId = :TrackId;\n",
    "```"
   ]
  },
  {
   "cell_type": "code",
   "execution_count": null,
   "id": "36d33611",
   "metadata": {},
   "outputs": [],
   "source": [
    "# Query for Track\n",
    "query = \\\n",
    "\"\"\"\n",
    "SELECT *\n",
    "FROM Track\n",
    "WHERE TrackId = :TrackId;\n",
    "\"\"\"\n"
   ]
  },
  {
   "cell_type": "code",
   "execution_count": null,
   "id": "7abb36f6",
   "metadata": {},
   "outputs": [],
   "source": [
    "# Parameters for Track\n",
    "parameters = {\"TrackId\": TrackId}"
   ]
  },
  {
   "cell_type": "code",
   "execution_count": null,
   "id": "28afa31b",
   "metadata": {},
   "outputs": [],
   "source": [
    "# Execute sql query and display\n",
    "df, df_filtered = exec_sql_query(sql=text(query), con=engine, params=parameters)\n"
   ]
  },
  {
   "cell_type": "code",
   "execution_count": null,
   "id": "600378f7",
   "metadata": {},
   "outputs": [],
   "source": [
    "# Display information\n",
    "df_filtered.head()\n"
   ]
  },
  {
   "cell_type": "code",
   "execution_count": null,
   "id": "1a3bf4b8",
   "metadata": {},
   "outputs": [],
   "source": [
    "# Disconnect\n",
    "engine.dispose()\n"
   ]
  }
 ],
 "metadata": {
  "kernelspec": {
   "display_name": "Python 3 (ipykernel)",
   "language": "python",
   "name": "python3"
  },
  "language_info": {
   "codemirror_mode": {
    "name": "ipython",
    "version": 3
   },
   "file_extension": ".py",
   "mimetype": "text/x-python",
   "name": "python",
   "nbconvert_exporter": "python",
   "pygments_lexer": "ipython3",
   "version": "3.11.4"
  }
 },
 "nbformat": 4,
 "nbformat_minor": 5
}
