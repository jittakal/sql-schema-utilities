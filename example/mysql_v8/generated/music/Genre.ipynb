{
 "cells": [
  {
   "cell_type": "markdown",
   "id": "d6b2d48d",
   "metadata": {},
   "source": [
    "# Data Retrieval Notebook for Table: Genre"
   ]
  },
  {
   "cell_type": "code",
   "execution_count": null,
   "id": "4b2178d7",
   "metadata": {},
   "outputs": [],
   "source": [
    "# Import required library packages\n",
    "import base64\n",
    "import pandas as pd\n",
    "from sqlalchemy import create_engine, text\n"
   ]
  },
  {
   "cell_type": "code",
   "execution_count": null,
   "id": "4c931aa7",
   "metadata": {},
   "outputs": [],
   "source": [
    "# Connection details\n",
    "connection_string = b'<<generated-base64-string>>'\n"
   ]
  },
  {
   "cell_type": "code",
   "execution_count": null,
   "id": "ae62fa90",
   "metadata": {},
   "outputs": [],
   "source": [
    "# Establish the connection\n",
    "engine = create_engine(base64.b64decode(connection_string).decode(\"ascii\"))\n"
   ]
  },
  {
   "cell_type": "code",
   "execution_count": null,
   "id": "74578ea1",
   "metadata": {},
   "outputs": [],
   "source": [
    "# Format SQL Query\n",
    "def format_sql_query(query):\n",
    "    formatted_query = sqlparse.format(query, reindent=True, keyword_case=\"upper\")\n",
    "    return formatted_query.strip()\n"
   ]
  },
  {
   "cell_type": "code",
   "execution_count": null,
   "id": "355d6abf",
   "metadata": {},
   "outputs": [],
   "source": [
    "# Execute Select Query\n",
    "def exec_sql_query(sql=None, con=engine, params=None):\n",
    "    df = pd.read_sql_query(sql=text(query), con=engine, params=params)\n",
    "    df_filtered = df.dropna(axis=1, how='all')\n",
    "    return (df, df_filtered)\n"
   ]
  },
  {
   "cell_type": "code",
   "execution_count": null,
   "id": "fcd1cceb",
   "metadata": {},
   "outputs": [],
   "source": [
    "# Parameter variables for Genre\n",
    "GenreId = ''"
   ]
  },
  {
   "cell_type": "markdown",
   "id": "ad4ade6b",
   "metadata": {},
   "source": [
    "```sql\n",
    "SELECT *\n",
    "FROM Genre\n",
    "LIMIT 10;\n",
    "```"
   ]
  },
  {
   "cell_type": "code",
   "execution_count": null,
   "id": "ca6c40eb",
   "metadata": {},
   "outputs": [],
   "source": [
    "# Query for Genre\n",
    "query = \\\n",
    "\"\"\"\n",
    "SELECT *\n",
    "FROM Genre\n",
    "LIMIT 10;\n",
    "\"\"\"\n"
   ]
  },
  {
   "cell_type": "code",
   "execution_count": null,
   "id": "210d280e",
   "metadata": {},
   "outputs": [],
   "source": [
    "# Parameters for Genre\n",
    "parameters = {}"
   ]
  },
  {
   "cell_type": "code",
   "execution_count": null,
   "id": "c3c6b20a",
   "metadata": {},
   "outputs": [],
   "source": [
    "# Execute sql query and display\n",
    "df, df_filtered = exec_sql_query(sql=text(query), con=engine, params=parameters)\n"
   ]
  },
  {
   "cell_type": "code",
   "execution_count": null,
   "id": "ac618089",
   "metadata": {},
   "outputs": [],
   "source": [
    "# Display information\n",
    "df_filtered.head()\n"
   ]
  },
  {
   "cell_type": "markdown",
   "id": "ddb06cea",
   "metadata": {},
   "source": [
    "```sql\n",
    "SELECT *\n",
    "FROM Genre\n",
    "WHERE GenreId = :GenreId;\n",
    "```"
   ]
  },
  {
   "cell_type": "code",
   "execution_count": null,
   "id": "2f5714a2",
   "metadata": {},
   "outputs": [],
   "source": [
    "# Query for Genre\n",
    "query = \\\n",
    "\"\"\"\n",
    "SELECT *\n",
    "FROM Genre\n",
    "WHERE GenreId = :GenreId;\n",
    "\"\"\"\n"
   ]
  },
  {
   "cell_type": "code",
   "execution_count": null,
   "id": "54fe4129",
   "metadata": {},
   "outputs": [],
   "source": [
    "# Parameters for Genre\n",
    "parameters = {\"GenreId\": GenreId}"
   ]
  },
  {
   "cell_type": "code",
   "execution_count": null,
   "id": "0a6c19dd",
   "metadata": {},
   "outputs": [],
   "source": [
    "# Execute sql query and display\n",
    "df, df_filtered = exec_sql_query(sql=text(query), con=engine, params=parameters)\n"
   ]
  },
  {
   "cell_type": "code",
   "execution_count": null,
   "id": "6f2bcf5c",
   "metadata": {},
   "outputs": [],
   "source": [
    "# Display information\n",
    "df_filtered.head()\n"
   ]
  },
  {
   "cell_type": "code",
   "execution_count": null,
   "id": "ecc93bde",
   "metadata": {},
   "outputs": [],
   "source": [
    "# Disconnect\n",
    "engine.dispose()\n"
   ]
  }
 ],
 "metadata": {
  "kernelspec": {
   "display_name": "Python 3 (ipykernel)",
   "language": "python",
   "name": "python3"
  },
  "language_info": {
   "codemirror_mode": {
    "name": "ipython",
    "version": 3
   },
   "file_extension": ".py",
   "mimetype": "text/x-python",
   "name": "python",
   "nbconvert_exporter": "python",
   "pygments_lexer": "ipython3",
   "version": "3.11.4"
  }
 },
 "nbformat": 4,
 "nbformat_minor": 5
}
