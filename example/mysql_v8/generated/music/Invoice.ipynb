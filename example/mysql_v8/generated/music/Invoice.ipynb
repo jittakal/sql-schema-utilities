{
 "cells": [
  {
   "cell_type": "markdown",
   "id": "54c6063f",
   "metadata": {},
   "source": [
    "# Data Retrieval Notebook for Table: Invoice"
   ]
  },
  {
   "cell_type": "code",
   "execution_count": null,
   "id": "fd4a502c",
   "metadata": {},
   "outputs": [],
   "source": [
    "# Import required library packages\n",
    "import base64\n",
    "import pandas as pd\n",
    "from sqlalchemy import create_engine, text\n"
   ]
  },
  {
   "cell_type": "code",
   "execution_count": null,
   "id": "419a0687",
   "metadata": {},
   "outputs": [],
   "source": [
    "# Connection details\n",
    "connection_string = b'<<generated-base64-string>>'\n"
   ]
  },
  {
   "cell_type": "code",
   "execution_count": null,
   "id": "b3fe16bc",
   "metadata": {},
   "outputs": [],
   "source": [
    "# Establish the connection\n",
    "engine = create_engine(base64.b64decode(connection_string).decode(\"ascii\"))\n"
   ]
  },
  {
   "cell_type": "code",
   "execution_count": null,
   "id": "67f4438c",
   "metadata": {},
   "outputs": [],
   "source": [
    "# Format SQL Query\n",
    "def format_sql_query(query):\n",
    "    formatted_query = sqlparse.format(query, reindent=True, keyword_case=\"upper\")\n",
    "    return formatted_query.strip()\n"
   ]
  },
  {
   "cell_type": "code",
   "execution_count": null,
   "id": "c60c5331",
   "metadata": {},
   "outputs": [],
   "source": [
    "# Execute Select Query\n",
    "def exec_sql_query(sql=None, con=engine, params=None):\n",
    "    df = pd.read_sql_query(sql=text(query), con=engine, params=params)\n",
    "    df_filtered = df.dropna(axis=1, how='all')\n",
    "    return (df, df_filtered)\n"
   ]
  },
  {
   "cell_type": "code",
   "execution_count": null,
   "id": "67815711",
   "metadata": {},
   "outputs": [],
   "source": [
    "# Parameter variables for Invoice\n",
    "CustomerId = ''\n",
    "InvoiceId = ''"
   ]
  },
  {
   "cell_type": "markdown",
   "id": "168946ab",
   "metadata": {},
   "source": [
    "```sql\n",
    "SELECT *\n",
    "FROM Invoice\n",
    "LIMIT 10;\n",
    "```"
   ]
  },
  {
   "cell_type": "code",
   "execution_count": null,
   "id": "d2bde016",
   "metadata": {},
   "outputs": [],
   "source": [
    "# Query for Invoice\n",
    "query = \\\n",
    "\"\"\"\n",
    "SELECT *\n",
    "FROM Invoice\n",
    "LIMIT 10;\n",
    "\"\"\"\n"
   ]
  },
  {
   "cell_type": "code",
   "execution_count": null,
   "id": "d550a66e",
   "metadata": {},
   "outputs": [],
   "source": [
    "# Parameters for Invoice\n",
    "parameters = {}"
   ]
  },
  {
   "cell_type": "code",
   "execution_count": null,
   "id": "5c3b0a2d",
   "metadata": {},
   "outputs": [],
   "source": [
    "# Execute sql query and display\n",
    "df, df_filtered = exec_sql_query(sql=text(query), con=engine, params=parameters)\n"
   ]
  },
  {
   "cell_type": "code",
   "execution_count": null,
   "id": "404bc393",
   "metadata": {},
   "outputs": [],
   "source": [
    "# Display information\n",
    "df_filtered.head()\n"
   ]
  },
  {
   "cell_type": "markdown",
   "id": "ac2c07a2",
   "metadata": {},
   "source": [
    "```sql\n",
    "SELECT *\n",
    "FROM Invoice\n",
    "WHERE InvoiceId = :InvoiceId;\n",
    "```"
   ]
  },
  {
   "cell_type": "code",
   "execution_count": null,
   "id": "660b0cd1",
   "metadata": {},
   "outputs": [],
   "source": [
    "# Query for Invoice\n",
    "query = \\\n",
    "\"\"\"\n",
    "SELECT *\n",
    "FROM Invoice\n",
    "WHERE InvoiceId = :InvoiceId;\n",
    "\"\"\"\n"
   ]
  },
  {
   "cell_type": "code",
   "execution_count": null,
   "id": "f628bd99",
   "metadata": {},
   "outputs": [],
   "source": [
    "# Parameters for Invoice\n",
    "parameters = {\"InvoiceId\": InvoiceId}"
   ]
  },
  {
   "cell_type": "code",
   "execution_count": null,
   "id": "4679b794",
   "metadata": {},
   "outputs": [],
   "source": [
    "# Execute sql query and display\n",
    "df, df_filtered = exec_sql_query(sql=text(query), con=engine, params=parameters)\n"
   ]
  },
  {
   "cell_type": "code",
   "execution_count": null,
   "id": "8af1042b",
   "metadata": {},
   "outputs": [],
   "source": [
    "# Display information\n",
    "df_filtered.head()\n"
   ]
  },
  {
   "cell_type": "markdown",
   "id": "f7392b47",
   "metadata": {},
   "source": [
    "```sql\n",
    "SELECT *\n",
    "FROM Invoice\n",
    "WHERE CustomerId = :CustomerId;\n",
    "```"
   ]
  },
  {
   "cell_type": "code",
   "execution_count": null,
   "id": "9e3b5b0e",
   "metadata": {},
   "outputs": [],
   "source": [
    "# Query for Invoice\n",
    "query = \\\n",
    "\"\"\"\n",
    "SELECT *\n",
    "FROM Invoice\n",
    "WHERE CustomerId = :CustomerId;\n",
    "\"\"\"\n"
   ]
  },
  {
   "cell_type": "code",
   "execution_count": null,
   "id": "3d3f3433",
   "metadata": {},
   "outputs": [],
   "source": [
    "# Parameters for Invoice\n",
    "parameters = {\"CustomerId\": CustomerId}"
   ]
  },
  {
   "cell_type": "code",
   "execution_count": null,
   "id": "b9269467",
   "metadata": {},
   "outputs": [],
   "source": [
    "# Execute sql query and display\n",
    "df, df_filtered = exec_sql_query(sql=text(query), con=engine, params=parameters)\n"
   ]
  },
  {
   "cell_type": "code",
   "execution_count": null,
   "id": "7182e753",
   "metadata": {},
   "outputs": [],
   "source": [
    "# Display information\n",
    "df_filtered.head()\n"
   ]
  },
  {
   "cell_type": "code",
   "execution_count": null,
   "id": "45cb2ee6",
   "metadata": {},
   "outputs": [],
   "source": [
    "# Disconnect\n",
    "engine.dispose()\n"
   ]
  }
 ],
 "metadata": {
  "kernelspec": {
   "display_name": "Python 3 (ipykernel)",
   "language": "python",
   "name": "python3"
  },
  "language_info": {
   "codemirror_mode": {
    "name": "ipython",
    "version": 3
   },
   "file_extension": ".py",
   "mimetype": "text/x-python",
   "name": "python",
   "nbconvert_exporter": "python",
   "pygments_lexer": "ipython3",
   "version": "3.11.4"
  }
 },
 "nbformat": 4,
 "nbformat_minor": 5
}
