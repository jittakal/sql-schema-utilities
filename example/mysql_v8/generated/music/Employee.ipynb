{
 "cells": [
  {
   "cell_type": "markdown",
   "id": "8e6e1b65",
   "metadata": {},
   "source": [
    "# Data Retrieval Notebook for Table: Employee"
   ]
  },
  {
   "cell_type": "code",
   "execution_count": null,
   "id": "2fd383dd",
   "metadata": {},
   "outputs": [],
   "source": [
    "# Import required library packages\n",
    "import base64\n",
    "import pandas as pd\n",
    "from sqlalchemy import create_engine, text\n"
   ]
  },
  {
   "cell_type": "code",
   "execution_count": null,
   "id": "ee1d1f99",
   "metadata": {},
   "outputs": [],
   "source": [
    "# Connection details\n",
    "connection_string = b'<<generated-base64-string>>'\n"
   ]
  },
  {
   "cell_type": "code",
   "execution_count": null,
   "id": "83de10ab",
   "metadata": {},
   "outputs": [],
   "source": [
    "# Establish the connection\n",
    "engine = create_engine(base64.b64decode(connection_string).decode(\"ascii\"))\n"
   ]
  },
  {
   "cell_type": "code",
   "execution_count": null,
   "id": "ea2451b4",
   "metadata": {},
   "outputs": [],
   "source": [
    "# Format SQL Query\n",
    "def format_sql_query(query):\n",
    "    formatted_query = sqlparse.format(query, reindent=True, keyword_case=\"upper\")\n",
    "    return formatted_query.strip()\n"
   ]
  },
  {
   "cell_type": "code",
   "execution_count": null,
   "id": "fe2c1a6d",
   "metadata": {},
   "outputs": [],
   "source": [
    "# Execute Select Query\n",
    "def exec_sql_query(sql=None, con=engine, params=None):\n",
    "    df = pd.read_sql_query(sql=text(query), con=engine, params=params)\n",
    "    df_filtered = df.dropna(axis=1, how='all')\n",
    "    return (df, df_filtered)\n"
   ]
  },
  {
   "cell_type": "code",
   "execution_count": null,
   "id": "17e97b92",
   "metadata": {},
   "outputs": [],
   "source": [
    "# Parameter variables for Employee\n",
    "ReportsTo = ''\n",
    "EmployeeId = ''"
   ]
  },
  {
   "cell_type": "markdown",
   "id": "69765458",
   "metadata": {},
   "source": [
    "```sql\n",
    "SELECT *\n",
    "FROM Employee\n",
    "LIMIT 10;\n",
    "```"
   ]
  },
  {
   "cell_type": "code",
   "execution_count": null,
   "id": "9a42829e",
   "metadata": {},
   "outputs": [],
   "source": [
    "# Query for Employee\n",
    "query = \\\n",
    "\"\"\"\n",
    "SELECT *\n",
    "FROM Employee\n",
    "LIMIT 10;\n",
    "\"\"\"\n"
   ]
  },
  {
   "cell_type": "code",
   "execution_count": null,
   "id": "0d44ba93",
   "metadata": {},
   "outputs": [],
   "source": [
    "# Parameters for Employee\n",
    "parameters = {}"
   ]
  },
  {
   "cell_type": "code",
   "execution_count": null,
   "id": "5e356876",
   "metadata": {},
   "outputs": [],
   "source": [
    "# Execute sql query and display\n",
    "df, df_filtered = exec_sql_query(sql=text(query), con=engine, params=parameters)\n"
   ]
  },
  {
   "cell_type": "code",
   "execution_count": null,
   "id": "b3e39221",
   "metadata": {},
   "outputs": [],
   "source": [
    "# Display information\n",
    "df_filtered.head()\n"
   ]
  },
  {
   "cell_type": "markdown",
   "id": "82b62493",
   "metadata": {},
   "source": [
    "```sql\n",
    "SELECT *\n",
    "FROM Employee\n",
    "WHERE ReportsTo = :ReportsTo;\n",
    "```"
   ]
  },
  {
   "cell_type": "code",
   "execution_count": null,
   "id": "3ec752dc",
   "metadata": {},
   "outputs": [],
   "source": [
    "# Query for Employee\n",
    "query = \\\n",
    "\"\"\"\n",
    "SELECT *\n",
    "FROM Employee\n",
    "WHERE ReportsTo = :ReportsTo;\n",
    "\"\"\"\n"
   ]
  },
  {
   "cell_type": "code",
   "execution_count": null,
   "id": "5efa7a39",
   "metadata": {},
   "outputs": [],
   "source": [
    "# Parameters for Employee\n",
    "parameters = {\"ReportsTo\": ReportsTo}"
   ]
  },
  {
   "cell_type": "code",
   "execution_count": null,
   "id": "d967ee92",
   "metadata": {},
   "outputs": [],
   "source": [
    "# Execute sql query and display\n",
    "df, df_filtered = exec_sql_query(sql=text(query), con=engine, params=parameters)\n"
   ]
  },
  {
   "cell_type": "code",
   "execution_count": null,
   "id": "76405cc1",
   "metadata": {},
   "outputs": [],
   "source": [
    "# Display information\n",
    "df_filtered.head()\n"
   ]
  },
  {
   "cell_type": "markdown",
   "id": "1f8755ae",
   "metadata": {},
   "source": [
    "```sql\n",
    "SELECT *\n",
    "FROM Employee\n",
    "WHERE EmployeeId = :EmployeeId;\n",
    "```"
   ]
  },
  {
   "cell_type": "code",
   "execution_count": null,
   "id": "7ab0fd63",
   "metadata": {},
   "outputs": [],
   "source": [
    "# Query for Employee\n",
    "query = \\\n",
    "\"\"\"\n",
    "SELECT *\n",
    "FROM Employee\n",
    "WHERE EmployeeId = :EmployeeId;\n",
    "\"\"\"\n"
   ]
  },
  {
   "cell_type": "code",
   "execution_count": null,
   "id": "f2d762b2",
   "metadata": {},
   "outputs": [],
   "source": [
    "# Parameters for Employee\n",
    "parameters = {\"EmployeeId\": EmployeeId}"
   ]
  },
  {
   "cell_type": "code",
   "execution_count": null,
   "id": "2d49da30",
   "metadata": {},
   "outputs": [],
   "source": [
    "# Execute sql query and display\n",
    "df, df_filtered = exec_sql_query(sql=text(query), con=engine, params=parameters)\n"
   ]
  },
  {
   "cell_type": "code",
   "execution_count": null,
   "id": "c569a627",
   "metadata": {},
   "outputs": [],
   "source": [
    "# Display information\n",
    "df_filtered.head()\n"
   ]
  },
  {
   "cell_type": "code",
   "execution_count": null,
   "id": "12cddc21",
   "metadata": {},
   "outputs": [],
   "source": [
    "# Disconnect\n",
    "engine.dispose()\n"
   ]
  }
 ],
 "metadata": {
  "kernelspec": {
   "display_name": "Python 3 (ipykernel)",
   "language": "python",
   "name": "python3"
  },
  "language_info": {
   "codemirror_mode": {
    "name": "ipython",
    "version": 3
   },
   "file_extension": ".py",
   "mimetype": "text/x-python",
   "name": "python",
   "nbconvert_exporter": "python",
   "pygments_lexer": "ipython3",
   "version": "3.11.4"
  }
 },
 "nbformat": 4,
 "nbformat_minor": 5
}
