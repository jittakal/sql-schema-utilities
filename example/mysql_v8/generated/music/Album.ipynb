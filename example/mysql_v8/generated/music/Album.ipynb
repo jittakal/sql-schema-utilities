{
 "cells": [
  {
   "cell_type": "markdown",
   "id": "83684636",
   "metadata": {},
   "source": [
    "# Data Retrieval Notebook for Table: Album"
   ]
  },
  {
   "cell_type": "code",
   "execution_count": null,
   "id": "66fd3196",
   "metadata": {},
   "outputs": [],
   "source": [
    "# Import required library packages\n",
    "import base64\n",
    "import pandas as pd\n",
    "from sqlalchemy import create_engine, text\n"
   ]
  },
  {
   "cell_type": "code",
   "execution_count": null,
   "id": "078f1ba9",
   "metadata": {},
   "outputs": [],
   "source": [
    "# Connection details\n",
    "connection_string = b'<<generated-base64-string>>'\n"
   ]
  },
  {
   "cell_type": "code",
   "execution_count": null,
   "id": "5d230649",
   "metadata": {},
   "outputs": [],
   "source": [
    "# Establish the connection\n",
    "engine = create_engine(base64.b64decode(connection_string).decode(\"ascii\"))\n"
   ]
  },
  {
   "cell_type": "code",
   "execution_count": null,
   "id": "441014a9",
   "metadata": {},
   "outputs": [],
   "source": [
    "# Format SQL Query\n",
    "def format_sql_query(query):\n",
    "    formatted_query = sqlparse.format(query, reindent=True, keyword_case=\"upper\")\n",
    "    return formatted_query.strip()\n"
   ]
  },
  {
   "cell_type": "code",
   "execution_count": null,
   "id": "f3b757da",
   "metadata": {},
   "outputs": [],
   "source": [
    "# Execute Select Query\n",
    "def exec_sql_query(sql=None, con=engine, params=None):\n",
    "    df = pd.read_sql_query(sql=text(query), con=engine, params=params)\n",
    "    df_filtered = df.dropna(axis=1, how='all')\n",
    "    return (df, df_filtered)\n"
   ]
  },
  {
   "cell_type": "code",
   "execution_count": null,
   "id": "dfd1df8e",
   "metadata": {},
   "outputs": [],
   "source": [
    "# Parameter variables for Album\n",
    "ArtistId = ''\n",
    "AlbumId = ''"
   ]
  },
  {
   "cell_type": "markdown",
   "id": "4427f227",
   "metadata": {},
   "source": [
    "```sql\n",
    "SELECT *\n",
    "FROM Album\n",
    "LIMIT 10;\n",
    "```"
   ]
  },
  {
   "cell_type": "code",
   "execution_count": null,
   "id": "c0362b22",
   "metadata": {},
   "outputs": [],
   "source": [
    "# Query for Album\n",
    "query = \\\n",
    "\"\"\"\n",
    "SELECT *\n",
    "FROM Album\n",
    "LIMIT 10;\n",
    "\"\"\"\n"
   ]
  },
  {
   "cell_type": "code",
   "execution_count": null,
   "id": "30e01a9f",
   "metadata": {},
   "outputs": [],
   "source": [
    "# Parameters for Album\n",
    "parameters = {}"
   ]
  },
  {
   "cell_type": "code",
   "execution_count": null,
   "id": "f08a5dbb",
   "metadata": {},
   "outputs": [],
   "source": [
    "# Execute sql query and display\n",
    "df, df_filtered = exec_sql_query(sql=text(query), con=engine, params=parameters)\n"
   ]
  },
  {
   "cell_type": "code",
   "execution_count": null,
   "id": "6e8fc80b",
   "metadata": {},
   "outputs": [],
   "source": [
    "# Display information\n",
    "df_filtered.head()\n"
   ]
  },
  {
   "cell_type": "markdown",
   "id": "df7ebf1c",
   "metadata": {},
   "source": [
    "```sql\n",
    "SELECT *\n",
    "FROM Album\n",
    "WHERE ArtistId = :ArtistId;\n",
    "```"
   ]
  },
  {
   "cell_type": "code",
   "execution_count": null,
   "id": "8d1cbb11",
   "metadata": {},
   "outputs": [],
   "source": [
    "# Query for Album\n",
    "query = \\\n",
    "\"\"\"\n",
    "SELECT *\n",
    "FROM Album\n",
    "WHERE ArtistId = :ArtistId;\n",
    "\"\"\"\n"
   ]
  },
  {
   "cell_type": "code",
   "execution_count": null,
   "id": "e178f116",
   "metadata": {},
   "outputs": [],
   "source": [
    "# Parameters for Album\n",
    "parameters = {\"ArtistId\": ArtistId}"
   ]
  },
  {
   "cell_type": "code",
   "execution_count": null,
   "id": "5fff592c",
   "metadata": {},
   "outputs": [],
   "source": [
    "# Execute sql query and display\n",
    "df, df_filtered = exec_sql_query(sql=text(query), con=engine, params=parameters)\n"
   ]
  },
  {
   "cell_type": "code",
   "execution_count": null,
   "id": "9c37e0c5",
   "metadata": {},
   "outputs": [],
   "source": [
    "# Display information\n",
    "df_filtered.head()\n"
   ]
  },
  {
   "cell_type": "markdown",
   "id": "070ee336",
   "metadata": {},
   "source": [
    "```sql\n",
    "SELECT *\n",
    "FROM Album\n",
    "WHERE AlbumId = :AlbumId;\n",
    "```"
   ]
  },
  {
   "cell_type": "code",
   "execution_count": null,
   "id": "37a1a311",
   "metadata": {},
   "outputs": [],
   "source": [
    "# Query for Album\n",
    "query = \\\n",
    "\"\"\"\n",
    "SELECT *\n",
    "FROM Album\n",
    "WHERE AlbumId = :AlbumId;\n",
    "\"\"\"\n"
   ]
  },
  {
   "cell_type": "code",
   "execution_count": null,
   "id": "aa07eaa3",
   "metadata": {},
   "outputs": [],
   "source": [
    "# Parameters for Album\n",
    "parameters = {\"AlbumId\": AlbumId}"
   ]
  },
  {
   "cell_type": "code",
   "execution_count": null,
   "id": "489e1b2e",
   "metadata": {},
   "outputs": [],
   "source": [
    "# Execute sql query and display\n",
    "df, df_filtered = exec_sql_query(sql=text(query), con=engine, params=parameters)\n"
   ]
  },
  {
   "cell_type": "code",
   "execution_count": null,
   "id": "3c6e4c47",
   "metadata": {},
   "outputs": [],
   "source": [
    "# Display information\n",
    "df_filtered.head()\n"
   ]
  },
  {
   "cell_type": "code",
   "execution_count": null,
   "id": "41b46fee",
   "metadata": {},
   "outputs": [],
   "source": [
    "# Disconnect\n",
    "engine.dispose()\n"
   ]
  }
 ],
 "metadata": {
  "kernelspec": {
   "display_name": "Python 3 (ipykernel)",
   "language": "python",
   "name": "python3"
  },
  "language_info": {
   "codemirror_mode": {
    "name": "ipython",
    "version": 3
   },
   "file_extension": ".py",
   "mimetype": "text/x-python",
   "name": "python",
   "nbconvert_exporter": "python",
   "pygments_lexer": "ipython3",
   "version": "3.11.4"
  }
 },
 "nbformat": 4,
 "nbformat_minor": 5
}
