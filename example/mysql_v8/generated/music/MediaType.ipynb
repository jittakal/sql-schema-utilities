{
 "cells": [
  {
   "cell_type": "markdown",
   "id": "cfe999e6",
   "metadata": {},
   "source": [
    "# Data Retrieval Notebook for Table: MediaType"
   ]
  },
  {
   "cell_type": "code",
   "execution_count": null,
   "id": "0ae1a07b",
   "metadata": {},
   "outputs": [],
   "source": [
    "# Import required library packages\n",
    "import base64\n",
    "import pandas as pd\n",
    "from sqlalchemy import create_engine, text\n"
   ]
  },
  {
   "cell_type": "code",
   "execution_count": null,
   "id": "64033b24",
   "metadata": {},
   "outputs": [],
   "source": [
    "# Connection details\n",
    "connection_string = b'<<generated-base64-string>>'\n"
   ]
  },
  {
   "cell_type": "code",
   "execution_count": null,
   "id": "75fc4f51",
   "metadata": {},
   "outputs": [],
   "source": [
    "# Establish the connection\n",
    "engine = create_engine(base64.b64decode(connection_string).decode(\"ascii\"))\n"
   ]
  },
  {
   "cell_type": "code",
   "execution_count": null,
   "id": "f83c6f4d",
   "metadata": {},
   "outputs": [],
   "source": [
    "# Format SQL Query\n",
    "def format_sql_query(query):\n",
    "    formatted_query = sqlparse.format(query, reindent=True, keyword_case=\"upper\")\n",
    "    return formatted_query.strip()\n"
   ]
  },
  {
   "cell_type": "code",
   "execution_count": null,
   "id": "7e848da8",
   "metadata": {},
   "outputs": [],
   "source": [
    "# Execute Select Query\n",
    "def exec_sql_query(sql=None, con=engine, params=None):\n",
    "    df = pd.read_sql_query(sql=text(query), con=engine, params=params)\n",
    "    df_filtered = df.dropna(axis=1, how='all')\n",
    "    return (df, df_filtered)\n"
   ]
  },
  {
   "cell_type": "code",
   "execution_count": null,
   "id": "06991d74",
   "metadata": {},
   "outputs": [],
   "source": [
    "# Parameter variables for MediaType\n",
    "MediaTypeId = ''"
   ]
  },
  {
   "cell_type": "markdown",
   "id": "7ea92309",
   "metadata": {},
   "source": [
    "```sql\n",
    "SELECT *\n",
    "FROM MediaType\n",
    "LIMIT 10;\n",
    "```"
   ]
  },
  {
   "cell_type": "code",
   "execution_count": null,
   "id": "e326bd62",
   "metadata": {},
   "outputs": [],
   "source": [
    "# Query for MediaType\n",
    "query = \\\n",
    "\"\"\"\n",
    "SELECT *\n",
    "FROM MediaType\n",
    "LIMIT 10;\n",
    "\"\"\"\n"
   ]
  },
  {
   "cell_type": "code",
   "execution_count": null,
   "id": "e78b8dab",
   "metadata": {},
   "outputs": [],
   "source": [
    "# Parameters for MediaType\n",
    "parameters = {}"
   ]
  },
  {
   "cell_type": "code",
   "execution_count": null,
   "id": "b840477b",
   "metadata": {},
   "outputs": [],
   "source": [
    "# Execute sql query and display\n",
    "df, df_filtered = exec_sql_query(sql=text(query), con=engine, params=parameters)\n"
   ]
  },
  {
   "cell_type": "code",
   "execution_count": null,
   "id": "7539e107",
   "metadata": {},
   "outputs": [],
   "source": [
    "# Display information\n",
    "df_filtered.head()\n"
   ]
  },
  {
   "cell_type": "markdown",
   "id": "83581d1e",
   "metadata": {},
   "source": [
    "```sql\n",
    "SELECT *\n",
    "FROM MediaType\n",
    "WHERE MediaTypeId = :MediaTypeId;\n",
    "```"
   ]
  },
  {
   "cell_type": "code",
   "execution_count": null,
   "id": "225e9adc",
   "metadata": {},
   "outputs": [],
   "source": [
    "# Query for MediaType\n",
    "query = \\\n",
    "\"\"\"\n",
    "SELECT *\n",
    "FROM MediaType\n",
    "WHERE MediaTypeId = :MediaTypeId;\n",
    "\"\"\"\n"
   ]
  },
  {
   "cell_type": "code",
   "execution_count": null,
   "id": "0ec221d2",
   "metadata": {},
   "outputs": [],
   "source": [
    "# Parameters for MediaType\n",
    "parameters = {\"MediaTypeId\": MediaTypeId}"
   ]
  },
  {
   "cell_type": "code",
   "execution_count": null,
   "id": "39ca534f",
   "metadata": {},
   "outputs": [],
   "source": [
    "# Execute sql query and display\n",
    "df, df_filtered = exec_sql_query(sql=text(query), con=engine, params=parameters)\n"
   ]
  },
  {
   "cell_type": "code",
   "execution_count": null,
   "id": "64aaea98",
   "metadata": {},
   "outputs": [],
   "source": [
    "# Display information\n",
    "df_filtered.head()\n"
   ]
  },
  {
   "cell_type": "code",
   "execution_count": null,
   "id": "4ac7c665",
   "metadata": {},
   "outputs": [],
   "source": [
    "# Disconnect\n",
    "engine.dispose()\n"
   ]
  }
 ],
 "metadata": {
  "kernelspec": {
   "display_name": "Python 3 (ipykernel)",
   "language": "python",
   "name": "python3"
  },
  "language_info": {
   "codemirror_mode": {
    "name": "ipython",
    "version": 3
   },
   "file_extension": ".py",
   "mimetype": "text/x-python",
   "name": "python",
   "nbconvert_exporter": "python",
   "pygments_lexer": "ipython3",
   "version": "3.11.4"
  }
 },
 "nbformat": 4,
 "nbformat_minor": 5
}
