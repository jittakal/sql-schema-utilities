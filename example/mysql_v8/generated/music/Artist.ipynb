{
 "cells": [
  {
   "cell_type": "markdown",
   "id": "ba3edb78",
   "metadata": {},
   "source": [
    "# Data Retrieval Notebook for Table: Artist"
   ]
  },
  {
   "cell_type": "code",
   "execution_count": null,
   "id": "7af7a7af",
   "metadata": {},
   "outputs": [],
   "source": [
    "# Import required library packages\n",
    "import base64\n",
    "import pandas as pd\n",
    "from sqlalchemy import create_engine, text\n"
   ]
  },
  {
   "cell_type": "code",
   "execution_count": null,
   "id": "c5752644",
   "metadata": {},
   "outputs": [],
   "source": [
    "# Connection details\n",
    "connection_string = b'<<generated-base64-string>>'\n"
   ]
  },
  {
   "cell_type": "code",
   "execution_count": null,
   "id": "ea39722b",
   "metadata": {},
   "outputs": [],
   "source": [
    "# Establish the connection\n",
    "engine = create_engine(base64.b64decode(connection_string).decode(\"ascii\"))\n"
   ]
  },
  {
   "cell_type": "code",
   "execution_count": null,
   "id": "e438abda",
   "metadata": {},
   "outputs": [],
   "source": [
    "# Format SQL Query\n",
    "def format_sql_query(query):\n",
    "    formatted_query = sqlparse.format(query, reindent=True, keyword_case=\"upper\")\n",
    "    return formatted_query.strip()\n"
   ]
  },
  {
   "cell_type": "code",
   "execution_count": null,
   "id": "f7d08585",
   "metadata": {},
   "outputs": [],
   "source": [
    "# Execute Select Query\n",
    "def exec_sql_query(sql=None, con=engine, params=None):\n",
    "    df = pd.read_sql_query(sql=text(query), con=engine, params=params)\n",
    "    df_filtered = df.dropna(axis=1, how='all')\n",
    "    return (df, df_filtered)\n"
   ]
  },
  {
   "cell_type": "code",
   "execution_count": null,
   "id": "0a14ca54",
   "metadata": {},
   "outputs": [],
   "source": [
    "# Parameter variables for Artist\n",
    "ArtistId = ''"
   ]
  },
  {
   "cell_type": "markdown",
   "id": "8ff3a244",
   "metadata": {},
   "source": [
    "```sql\n",
    "SELECT *\n",
    "FROM Artist\n",
    "LIMIT 10;\n",
    "```"
   ]
  },
  {
   "cell_type": "code",
   "execution_count": null,
   "id": "3ea33ef5",
   "metadata": {},
   "outputs": [],
   "source": [
    "# Query for Artist\n",
    "query = \\\n",
    "\"\"\"\n",
    "SELECT *\n",
    "FROM Artist\n",
    "LIMIT 10;\n",
    "\"\"\"\n"
   ]
  },
  {
   "cell_type": "code",
   "execution_count": null,
   "id": "48083854",
   "metadata": {},
   "outputs": [],
   "source": [
    "# Parameters for Artist\n",
    "parameters = {}"
   ]
  },
  {
   "cell_type": "code",
   "execution_count": null,
   "id": "97ed3c0b",
   "metadata": {},
   "outputs": [],
   "source": [
    "# Execute sql query and display\n",
    "df, df_filtered = exec_sql_query(sql=text(query), con=engine, params=parameters)\n"
   ]
  },
  {
   "cell_type": "code",
   "execution_count": null,
   "id": "723dfd0c",
   "metadata": {},
   "outputs": [],
   "source": [
    "# Display information\n",
    "df_filtered.head()\n"
   ]
  },
  {
   "cell_type": "markdown",
   "id": "87363cb1",
   "metadata": {},
   "source": [
    "```sql\n",
    "SELECT *\n",
    "FROM Artist\n",
    "WHERE ArtistId = :ArtistId;\n",
    "```"
   ]
  },
  {
   "cell_type": "code",
   "execution_count": null,
   "id": "2bed79fe",
   "metadata": {},
   "outputs": [],
   "source": [
    "# Query for Artist\n",
    "query = \\\n",
    "\"\"\"\n",
    "SELECT *\n",
    "FROM Artist\n",
    "WHERE ArtistId = :ArtistId;\n",
    "\"\"\"\n"
   ]
  },
  {
   "cell_type": "code",
   "execution_count": null,
   "id": "1432d52b",
   "metadata": {},
   "outputs": [],
   "source": [
    "# Parameters for Artist\n",
    "parameters = {\"ArtistId\": ArtistId}"
   ]
  },
  {
   "cell_type": "code",
   "execution_count": null,
   "id": "d537f83b",
   "metadata": {},
   "outputs": [],
   "source": [
    "# Execute sql query and display\n",
    "df, df_filtered = exec_sql_query(sql=text(query), con=engine, params=parameters)\n"
   ]
  },
  {
   "cell_type": "code",
   "execution_count": null,
   "id": "42320944",
   "metadata": {},
   "outputs": [],
   "source": [
    "# Display information\n",
    "df_filtered.head()\n"
   ]
  },
  {
   "cell_type": "code",
   "execution_count": null,
   "id": "48a75bcb",
   "metadata": {},
   "outputs": [],
   "source": [
    "# Disconnect\n",
    "engine.dispose()\n"
   ]
  }
 ],
 "metadata": {
  "kernelspec": {
   "display_name": "Python 3 (ipykernel)",
   "language": "python",
   "name": "python3"
  },
  "language_info": {
   "codemirror_mode": {
    "name": "ipython",
    "version": 3
   },
   "file_extension": ".py",
   "mimetype": "text/x-python",
   "name": "python",
   "nbconvert_exporter": "python",
   "pygments_lexer": "ipython3",
   "version": "3.11.4"
  }
 },
 "nbformat": 4,
 "nbformat_minor": 5
}
