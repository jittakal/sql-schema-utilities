{
 "cells": [
  {
   "cell_type": "markdown",
   "id": "a732f6d5",
   "metadata": {},
   "source": [
    "# Data Retrieval Notebook for Table: InvoiceLine"
   ]
  },
  {
   "cell_type": "code",
   "execution_count": null,
   "id": "1ab6053d",
   "metadata": {},
   "outputs": [],
   "source": [
    "# Import required library packages\n",
    "import base64\n",
    "import pandas as pd\n",
    "from sqlalchemy import create_engine, text\n"
   ]
  },
  {
   "cell_type": "code",
   "execution_count": null,
   "id": "8efbb309",
   "metadata": {},
   "outputs": [],
   "source": [
    "# Connection details\n",
    "connection_string = b'<<generated-base64-string>>'\n"
   ]
  },
  {
   "cell_type": "code",
   "execution_count": null,
   "id": "8d56bd66",
   "metadata": {},
   "outputs": [],
   "source": [
    "# Establish the connection\n",
    "engine = create_engine(base64.b64decode(connection_string).decode(\"ascii\"))\n"
   ]
  },
  {
   "cell_type": "code",
   "execution_count": null,
   "id": "3978d9f5",
   "metadata": {},
   "outputs": [],
   "source": [
    "# Format SQL Query\n",
    "def format_sql_query(query):\n",
    "    formatted_query = sqlparse.format(query, reindent=True, keyword_case=\"upper\")\n",
    "    return formatted_query.strip()\n"
   ]
  },
  {
   "cell_type": "code",
   "execution_count": null,
   "id": "233127c9",
   "metadata": {},
   "outputs": [],
   "source": [
    "# Execute Select Query\n",
    "def exec_sql_query(sql=None, con=engine, params=None):\n",
    "    df = pd.read_sql_query(sql=text(query), con=engine, params=params)\n",
    "    df_filtered = df.dropna(axis=1, how='all')\n",
    "    return (df, df_filtered)\n"
   ]
  },
  {
   "cell_type": "code",
   "execution_count": null,
   "id": "f840a77a",
   "metadata": {},
   "outputs": [],
   "source": [
    "# Parameter variables for InvoiceLine\n",
    "TrackId = ''\n",
    "InvoiceLineId = ''\n",
    "InvoiceId = ''"
   ]
  },
  {
   "cell_type": "markdown",
   "id": "4bf28a87",
   "metadata": {},
   "source": [
    "```sql\n",
    "SELECT *\n",
    "FROM InvoiceLine\n",
    "LIMIT 10;\n",
    "```"
   ]
  },
  {
   "cell_type": "code",
   "execution_count": null,
   "id": "be6a47f0",
   "metadata": {},
   "outputs": [],
   "source": [
    "# Query for InvoiceLine\n",
    "query = \\\n",
    "\"\"\"\n",
    "SELECT *\n",
    "FROM InvoiceLine\n",
    "LIMIT 10;\n",
    "\"\"\"\n"
   ]
  },
  {
   "cell_type": "code",
   "execution_count": null,
   "id": "68c5d7c2",
   "metadata": {},
   "outputs": [],
   "source": [
    "# Parameters for InvoiceLine\n",
    "parameters = {}"
   ]
  },
  {
   "cell_type": "code",
   "execution_count": null,
   "id": "168ef169",
   "metadata": {},
   "outputs": [],
   "source": [
    "# Execute sql query and display\n",
    "df, df_filtered = exec_sql_query(sql=text(query), con=engine, params=parameters)\n"
   ]
  },
  {
   "cell_type": "code",
   "execution_count": null,
   "id": "3325b7a0",
   "metadata": {},
   "outputs": [],
   "source": [
    "# Display information\n",
    "df_filtered.head()\n"
   ]
  },
  {
   "cell_type": "markdown",
   "id": "03270975",
   "metadata": {},
   "source": [
    "```sql\n",
    "SELECT *\n",
    "FROM InvoiceLine\n",
    "WHERE InvoiceLineId = :InvoiceLineId;\n",
    "```"
   ]
  },
  {
   "cell_type": "code",
   "execution_count": null,
   "id": "f4e7828d",
   "metadata": {},
   "outputs": [],
   "source": [
    "# Query for InvoiceLine\n",
    "query = \\\n",
    "\"\"\"\n",
    "SELECT *\n",
    "FROM InvoiceLine\n",
    "WHERE InvoiceLineId = :InvoiceLineId;\n",
    "\"\"\"\n"
   ]
  },
  {
   "cell_type": "code",
   "execution_count": null,
   "id": "6049d419",
   "metadata": {},
   "outputs": [],
   "source": [
    "# Parameters for InvoiceLine\n",
    "parameters = {\"InvoiceLineId\": InvoiceLineId}"
   ]
  },
  {
   "cell_type": "code",
   "execution_count": null,
   "id": "950513de",
   "metadata": {},
   "outputs": [],
   "source": [
    "# Execute sql query and display\n",
    "df, df_filtered = exec_sql_query(sql=text(query), con=engine, params=parameters)\n"
   ]
  },
  {
   "cell_type": "code",
   "execution_count": null,
   "id": "23830dbd",
   "metadata": {},
   "outputs": [],
   "source": [
    "# Display information\n",
    "df_filtered.head()\n"
   ]
  },
  {
   "cell_type": "markdown",
   "id": "f15bce71",
   "metadata": {},
   "source": [
    "```sql\n",
    "SELECT *\n",
    "FROM InvoiceLine\n",
    "WHERE InvoiceId = :InvoiceId;\n",
    "```"
   ]
  },
  {
   "cell_type": "code",
   "execution_count": null,
   "id": "5a8ab4c5",
   "metadata": {},
   "outputs": [],
   "source": [
    "# Query for InvoiceLine\n",
    "query = \\\n",
    "\"\"\"\n",
    "SELECT *\n",
    "FROM InvoiceLine\n",
    "WHERE InvoiceId = :InvoiceId;\n",
    "\"\"\"\n"
   ]
  },
  {
   "cell_type": "code",
   "execution_count": null,
   "id": "868ffc92",
   "metadata": {},
   "outputs": [],
   "source": [
    "# Parameters for InvoiceLine\n",
    "parameters = {\"InvoiceId\": InvoiceId}"
   ]
  },
  {
   "cell_type": "code",
   "execution_count": null,
   "id": "2cadc022",
   "metadata": {},
   "outputs": [],
   "source": [
    "# Execute sql query and display\n",
    "df, df_filtered = exec_sql_query(sql=text(query), con=engine, params=parameters)\n"
   ]
  },
  {
   "cell_type": "code",
   "execution_count": null,
   "id": "ac7c705a",
   "metadata": {},
   "outputs": [],
   "source": [
    "# Display information\n",
    "df_filtered.head()\n"
   ]
  },
  {
   "cell_type": "markdown",
   "id": "ba1fcf61",
   "metadata": {},
   "source": [
    "```sql\n",
    "SELECT *\n",
    "FROM InvoiceLine\n",
    "WHERE TrackId = :TrackId;\n",
    "```"
   ]
  },
  {
   "cell_type": "code",
   "execution_count": null,
   "id": "446a70d1",
   "metadata": {},
   "outputs": [],
   "source": [
    "# Query for InvoiceLine\n",
    "query = \\\n",
    "\"\"\"\n",
    "SELECT *\n",
    "FROM InvoiceLine\n",
    "WHERE TrackId = :TrackId;\n",
    "\"\"\"\n"
   ]
  },
  {
   "cell_type": "code",
   "execution_count": null,
   "id": "c5e7d98d",
   "metadata": {},
   "outputs": [],
   "source": [
    "# Parameters for InvoiceLine\n",
    "parameters = {\"TrackId\": TrackId}"
   ]
  },
  {
   "cell_type": "code",
   "execution_count": null,
   "id": "b764aaf2",
   "metadata": {},
   "outputs": [],
   "source": [
    "# Execute sql query and display\n",
    "df, df_filtered = exec_sql_query(sql=text(query), con=engine, params=parameters)\n"
   ]
  },
  {
   "cell_type": "code",
   "execution_count": null,
   "id": "08c33a2e",
   "metadata": {},
   "outputs": [],
   "source": [
    "# Display information\n",
    "df_filtered.head()\n"
   ]
  },
  {
   "cell_type": "code",
   "execution_count": null,
   "id": "edfe2ba5",
   "metadata": {},
   "outputs": [],
   "source": [
    "# Disconnect\n",
    "engine.dispose()\n"
   ]
  }
 ],
 "metadata": {
  "kernelspec": {
   "display_name": "Python 3 (ipykernel)",
   "language": "python",
   "name": "python3"
  },
  "language_info": {
   "codemirror_mode": {
    "name": "ipython",
    "version": 3
   },
   "file_extension": ".py",
   "mimetype": "text/x-python",
   "name": "python",
   "nbconvert_exporter": "python",
   "pygments_lexer": "ipython3",
   "version": "3.11.4"
  }
 },
 "nbformat": 4,
 "nbformat_minor": 5
}
