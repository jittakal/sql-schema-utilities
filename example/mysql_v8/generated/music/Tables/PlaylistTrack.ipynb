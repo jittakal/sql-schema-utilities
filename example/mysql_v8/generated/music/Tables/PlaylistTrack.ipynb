{
 "cells": [
  {
   "cell_type": "markdown",
   "id": "05d110aa",
   "metadata": {},
   "source": [
    "# Data Retrieval Notebook for Table: PlaylistTrack"
   ]
  },
  {
   "cell_type": "code",
   "execution_count": null,
   "id": "9b98262f",
   "metadata": {},
   "outputs": [],
   "source": [
    "# Import required library packages\n",
    "import base64\n",
    "import pandas as pd\n",
    "from sqlalchemy import create_engine, text\n"
   ]
  },
  {
   "cell_type": "code",
   "execution_count": null,
   "id": "c092b518",
   "metadata": {},
   "outputs": [],
   "source": [
    "# Connection details\n",
    "connection_string = b'<<generated-base64-string>>'\n"
   ]
  },
  {
   "cell_type": "code",
   "execution_count": null,
   "id": "38081499",
   "metadata": {},
   "outputs": [],
   "source": [
    "# Establish the connection\n",
    "engine = create_engine(base64.b64decode(connection_string).decode(\"ascii\"))\n"
   ]
  },
  {
   "cell_type": "code",
   "execution_count": null,
   "id": "98c0f518",
   "metadata": {},
   "outputs": [],
   "source": [
    "# Format SQL Query\n",
    "def format_sql_query(query):\n",
    "    formatted_query = sqlparse.format(query, reindent=True, keyword_case=\"upper\")\n",
    "    return formatted_query.strip()\n"
   ]
  },
  {
   "cell_type": "code",
   "execution_count": null,
   "id": "174a203d",
   "metadata": {},
   "outputs": [],
   "source": [
    "# Execute Select Query\n",
    "def exec_sql_query(sql=None, con=engine, params=None):\n",
    "    df = pd.read_sql_query(sql=text(query), con=engine, params=params)\n",
    "    df_filtered = df.dropna(axis=1, how='all')\n",
    "    return (df, df_filtered)\n"
   ]
  },
  {
   "cell_type": "code",
   "execution_count": null,
   "id": "7dcc645d",
   "metadata": {},
   "outputs": [],
   "source": [
    "# Parameter variables for PlaylistTrack\n",
    "PlaylistId = ''\n",
    "TrackId = ''"
   ]
  },
  {
   "cell_type": "markdown",
   "id": "f397d93e",
   "metadata": {},
   "source": [
    "```sql\n",
    "SELECT *\n",
    "FROM PlaylistTrack\n",
    "LIMIT 10;\n",
    "```"
   ]
  },
  {
   "cell_type": "code",
   "execution_count": null,
   "id": "a6648805",
   "metadata": {},
   "outputs": [],
   "source": [
    "# Query for PlaylistTrack\n",
    "query = \\\n",
    "\"\"\"\n",
    "SELECT *\n",
    "FROM PlaylistTrack\n",
    "LIMIT 10;\n",
    "\"\"\"\n"
   ]
  },
  {
   "cell_type": "code",
   "execution_count": null,
   "id": "b1246835",
   "metadata": {},
   "outputs": [],
   "source": [
    "# Parameters for PlaylistTrack\n",
    "parameters = {}"
   ]
  },
  {
   "cell_type": "code",
   "execution_count": null,
   "id": "746230e7",
   "metadata": {},
   "outputs": [],
   "source": [
    "# Execute sql query and display\n",
    "df, df_filtered = exec_sql_query(sql=text(query), con=engine, params=parameters)\n"
   ]
  },
  {
   "cell_type": "code",
   "execution_count": null,
   "id": "f97e44d9",
   "metadata": {},
   "outputs": [],
   "source": [
    "# Display information\n",
    "df_filtered.head()\n"
   ]
  },
  {
   "cell_type": "markdown",
   "id": "c2a09eee",
   "metadata": {},
   "source": [
    "```sql\n",
    "SELECT *\n",
    "FROM PlaylistTrack\n",
    "WHERE PlaylistId = :PlaylistId\n",
    "  AND TrackId = :TrackId;\n",
    "```"
   ]
  },
  {
   "cell_type": "code",
   "execution_count": null,
   "id": "6279bc23",
   "metadata": {},
   "outputs": [],
   "source": [
    "# Query for PlaylistTrack\n",
    "query = \\\n",
    "\"\"\"\n",
    "SELECT *\n",
    "FROM PlaylistTrack\n",
    "WHERE PlaylistId = :PlaylistId\n",
    "  AND TrackId = :TrackId;\n",
    "\"\"\"\n"
   ]
  },
  {
   "cell_type": "code",
   "execution_count": null,
   "id": "ca41a39e",
   "metadata": {},
   "outputs": [],
   "source": [
    "# Parameters for PlaylistTrack\n",
    "parameters = {\"PlaylistId\": PlaylistId, \"TrackId\": TrackId}"
   ]
  },
  {
   "cell_type": "code",
   "execution_count": null,
   "id": "1ed9173c",
   "metadata": {},
   "outputs": [],
   "source": [
    "# Execute sql query and display\n",
    "df, df_filtered = exec_sql_query(sql=text(query), con=engine, params=parameters)\n"
   ]
  },
  {
   "cell_type": "code",
   "execution_count": null,
   "id": "8bc28824",
   "metadata": {},
   "outputs": [],
   "source": [
    "# Display information\n",
    "df_filtered.head()\n"
   ]
  },
  {
   "cell_type": "markdown",
   "id": "3b25cb3b",
   "metadata": {},
   "source": [
    "```sql\n",
    "SELECT *\n",
    "FROM PlaylistTrack\n",
    "WHERE TrackId = :TrackId;\n",
    "```"
   ]
  },
  {
   "cell_type": "code",
   "execution_count": null,
   "id": "86f7acee",
   "metadata": {},
   "outputs": [],
   "source": [
    "# Query for PlaylistTrack\n",
    "query = \\\n",
    "\"\"\"\n",
    "SELECT *\n",
    "FROM PlaylistTrack\n",
    "WHERE TrackId = :TrackId;\n",
    "\"\"\"\n"
   ]
  },
  {
   "cell_type": "code",
   "execution_count": null,
   "id": "96c47a00",
   "metadata": {},
   "outputs": [],
   "source": [
    "# Parameters for PlaylistTrack\n",
    "parameters = {\"TrackId\": TrackId}"
   ]
  },
  {
   "cell_type": "code",
   "execution_count": null,
   "id": "05039eeb",
   "metadata": {},
   "outputs": [],
   "source": [
    "# Execute sql query and display\n",
    "df, df_filtered = exec_sql_query(sql=text(query), con=engine, params=parameters)\n"
   ]
  },
  {
   "cell_type": "code",
   "execution_count": null,
   "id": "53bfd915",
   "metadata": {},
   "outputs": [],
   "source": [
    "# Display information\n",
    "df_filtered.head()\n"
   ]
  },
  {
   "cell_type": "code",
   "execution_count": null,
   "id": "531378da",
   "metadata": {},
   "outputs": [],
   "source": [
    "# Disconnect\n",
    "engine.dispose()\n"
   ]
  }
 ],
 "metadata": {
  "kernelspec": {
   "display_name": "Python 3 (ipykernel)",
   "language": "python",
   "name": "python3"
  },
  "language_info": {
   "codemirror_mode": {
    "name": "ipython",
    "version": 3
   },
   "file_extension": ".py",
   "mimetype": "text/x-python",
   "name": "python",
   "nbconvert_exporter": "python",
   "pygments_lexer": "ipython3",
   "version": "3.11.4"
  }
 },
 "nbformat": 4,
 "nbformat_minor": 5
}
