{
 "cells": [
  {
   "cell_type": "markdown",
   "id": "c6dea7e3",
   "metadata": {},
   "source": [
    "# Data Retrieval Notebook for Table: Playlist"
   ]
  },
  {
   "cell_type": "code",
   "execution_count": null,
   "id": "fdda225e",
   "metadata": {},
   "outputs": [],
   "source": [
    "# Import required library packages\n",
    "import base64\n",
    "import pandas as pd\n",
    "from sqlalchemy import create_engine, text\n"
   ]
  },
  {
   "cell_type": "code",
   "execution_count": null,
   "id": "91126555",
   "metadata": {},
   "outputs": [],
   "source": [
    "# Connection details\n",
    "connection_string = b'<<generated-base64-string>>'\n"
   ]
  },
  {
   "cell_type": "code",
   "execution_count": null,
   "id": "dd7615ba",
   "metadata": {},
   "outputs": [],
   "source": [
    "# Establish the connection\n",
    "engine = create_engine(base64.b64decode(connection_string).decode(\"ascii\"))\n"
   ]
  },
  {
   "cell_type": "code",
   "execution_count": null,
   "id": "1c13ad36",
   "metadata": {},
   "outputs": [],
   "source": [
    "# Format SQL Query\n",
    "def format_sql_query(query):\n",
    "    formatted_query = sqlparse.format(query, reindent=True, keyword_case=\"upper\")\n",
    "    return formatted_query.strip()\n"
   ]
  },
  {
   "cell_type": "code",
   "execution_count": null,
   "id": "1fe073f9",
   "metadata": {},
   "outputs": [],
   "source": [
    "# Execute Select Query\n",
    "def exec_sql_query(sql=None, con=engine, params=None):\n",
    "    df = pd.read_sql_query(sql=text(query), con=engine, params=params)\n",
    "    df_filtered = df.dropna(axis=1, how='all')\n",
    "    return (df, df_filtered)\n"
   ]
  },
  {
   "cell_type": "code",
   "execution_count": null,
   "id": "58091ec6",
   "metadata": {},
   "outputs": [],
   "source": [
    "# Parameter variables for Playlist\n",
    "PlaylistId = ''"
   ]
  },
  {
   "cell_type": "markdown",
   "id": "22c3d3ec",
   "metadata": {},
   "source": [
    "```sql\n",
    "SELECT *\n",
    "FROM Playlist\n",
    "LIMIT 10;\n",
    "```"
   ]
  },
  {
   "cell_type": "code",
   "execution_count": null,
   "id": "f8c6e7d8",
   "metadata": {},
   "outputs": [],
   "source": [
    "# Query for Playlist\n",
    "query = \\\n",
    "\"\"\"\n",
    "SELECT *\n",
    "FROM Playlist\n",
    "LIMIT 10;\n",
    "\"\"\"\n"
   ]
  },
  {
   "cell_type": "code",
   "execution_count": null,
   "id": "b467b0b9",
   "metadata": {},
   "outputs": [],
   "source": [
    "# Parameters for Playlist\n",
    "parameters = {}"
   ]
  },
  {
   "cell_type": "code",
   "execution_count": null,
   "id": "cfaeabf1",
   "metadata": {},
   "outputs": [],
   "source": [
    "# Execute sql query and display\n",
    "df, df_filtered = exec_sql_query(sql=text(query), con=engine, params=parameters)\n"
   ]
  },
  {
   "cell_type": "code",
   "execution_count": null,
   "id": "7ccd375b",
   "metadata": {},
   "outputs": [],
   "source": [
    "# Display information\n",
    "df_filtered.head()\n"
   ]
  },
  {
   "cell_type": "markdown",
   "id": "d6a0f68c",
   "metadata": {},
   "source": [
    "```sql\n",
    "SELECT *\n",
    "FROM Playlist\n",
    "WHERE PlaylistId = :PlaylistId;\n",
    "```"
   ]
  },
  {
   "cell_type": "code",
   "execution_count": null,
   "id": "3f9fe1b4",
   "metadata": {},
   "outputs": [],
   "source": [
    "# Query for Playlist\n",
    "query = \\\n",
    "\"\"\"\n",
    "SELECT *\n",
    "FROM Playlist\n",
    "WHERE PlaylistId = :PlaylistId;\n",
    "\"\"\"\n"
   ]
  },
  {
   "cell_type": "code",
   "execution_count": null,
   "id": "f259c857",
   "metadata": {},
   "outputs": [],
   "source": [
    "# Parameters for Playlist\n",
    "parameters = {\"PlaylistId\": PlaylistId}"
   ]
  },
  {
   "cell_type": "code",
   "execution_count": null,
   "id": "3e28591f",
   "metadata": {},
   "outputs": [],
   "source": [
    "# Execute sql query and display\n",
    "df, df_filtered = exec_sql_query(sql=text(query), con=engine, params=parameters)\n"
   ]
  },
  {
   "cell_type": "code",
   "execution_count": null,
   "id": "973042d4",
   "metadata": {},
   "outputs": [],
   "source": [
    "# Display information\n",
    "df_filtered.head()\n"
   ]
  },
  {
   "cell_type": "code",
   "execution_count": null,
   "id": "111a9ebd",
   "metadata": {},
   "outputs": [],
   "source": [
    "# Disconnect\n",
    "engine.dispose()\n"
   ]
  }
 ],
 "metadata": {
  "kernelspec": {
   "display_name": "Python 3 (ipykernel)",
   "language": "python",
   "name": "python3"
  },
  "language_info": {
   "codemirror_mode": {
    "name": "ipython",
    "version": 3
   },
   "file_extension": ".py",
   "mimetype": "text/x-python",
   "name": "python",
   "nbconvert_exporter": "python",
   "pygments_lexer": "ipython3",
   "version": "3.11.4"
  }
 },
 "nbformat": 4,
 "nbformat_minor": 5
}
