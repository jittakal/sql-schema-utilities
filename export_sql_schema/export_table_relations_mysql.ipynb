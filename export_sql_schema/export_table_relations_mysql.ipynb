{
 "cells": [
  {
   "cell_type": "markdown",
   "id": "f60166a1-a550-4edd-879c-7a183e603f53",
   "metadata": {
    "tags": []
   },
   "source": [
    "# Export Table Relational Information as a HTML"
   ]
  },
  {
   "cell_type": "code",
   "execution_count": null,
   "id": "d7a0b119-e69d-4e84-871d-ed8d8e019535",
   "metadata": {
    "tags": []
   },
   "outputs": [],
   "source": [
    "# Install the required libraries for newly created environment - only once\n",
    "\n",
    "#!pip install mysql-connector-python\n",
    "#!pip install pandas"
   ]
  },
  {
   "cell_type": "code",
   "execution_count": null,
   "id": "aa1de59e-e226-45ff-b626-8ea388def54b",
   "metadata": {
    "tags": []
   },
   "outputs": [],
   "source": [
    "# Import required libraries\n",
    "import os\n",
    "import json\n",
    "import mysql.connector\n",
    "import pandas as pd"
   ]
  },
  {
   "cell_type": "code",
   "execution_count": null,
   "id": "506a3094-bae3-4e55-a2b0-2d8324b41708",
   "metadata": {
    "tags": []
   },
   "outputs": [],
   "source": [
    "from bs4 import BeautifulSoup\n",
    "from getpass import getpass\n",
    "from mysql.connector import connect, Error"
   ]
  },
  {
   "cell_type": "code",
   "execution_count": null,
   "id": "04c61d6f-4a2a-4a24-9d31-44f60400eb7d",
   "metadata": {
    "tags": []
   },
   "outputs": [],
   "source": [
    "# Configure username, password and database details\n",
    "db_user = \"<<user_name>>\"\n",
    "db_password = \"<<user_password\"\"\n",
    "bd_host = \"<<host_name>>\"\n",
    "db_port = \"<<port>>\"\n",
    "db_name = \"<<database_name>>\""
   ]
  },
  {
   "cell_type": "code",
   "execution_count": null,
   "id": "1f07de7b-02bc-4c73-b70d-aedf2db5c05d",
   "metadata": {
    "tags": []
   },
   "outputs": [],
   "source": [
    "# Function to get database connection\n",
    "def _get_db_connection(db_host, db_port, db_user, db_password, db_name):\n",
    "    try:\n",
    "        cnx = connect(\n",
    "            host=db_host,\n",
    "            port=db_port,\n",
    "            user=db_user,\n",
    "            password=db_password, \n",
    "            database=db_name)\n",
    "        return cnx\n",
    "    except Error as e:\n",
    "        print(f\"Error: {e}\")\n",
    "        return None"
   ]
  },
  {
   "cell_type": "code",
   "execution_count": null,
   "id": "94b78def-b662-414d-950c-ff329c17dee3",
   "metadata": {
    "tags": []
   },
   "outputs": [],
   "source": [
    "# Validate database connection\n",
    "cnx = _get_db_connection(db_host, db_port, db_user, db_password, db_name)\n",
    "if cnx is not None:\n",
    "    print(\"Database connection - successful\")\n",
    "else:\n",
    "    print(\"Database connection - failure\")"
   ]
  },
  {
   "cell_type": "code",
   "execution_count": null,
   "id": "c1ec2aea-7ede-4b03-862d-5afc2088d66c",
   "metadata": {
    "tags": []
   },
   "outputs": [],
   "source": [
    "def _get_html_template():\n",
    "    \"\"\"\n",
    "    :return HTML Template\n",
    "    \"\"\"\n",
    "    _html_template = '''\n",
    "<!DOCTYPE html>\n",
    "<html lang=\"en\">\n",
    "    <head>\n",
    "        <meta charset=\"UTF-8\">\n",
    "        <title>Table Relations</title>\n",
    "        <style>\n",
    "            body {{\n",
    "                font-family: Arial, sans-serif;\n",
    "            }}\n",
    "            .table {{\n",
    "                border-collapse: collapse;\n",
    "                width: 80%;\n",
    "                margin: 20px auto;\n",
    "            }}\n",
    "            .table, th, td {{\n",
    "                border: 1px solid #dddddd;\n",
    "                text-align: left;\n",
    "                padding: 8px;\n",
    "            }}\n",
    "            th {{\n",
    "                background-color: #f2f2f2;\n",
    "            }}\n",
    "            tr:nth-child(even) {{\n",
    "                background-color: #f2f2f2;\n",
    "            }}\n",
    "            .relation-title {{\n",
    "                font-weight: bold;\n",
    "                margin-top: 20px;\n",
    "            }}\n",
    "        </style>\n",
    "    </head>\n",
    "    <body>\n",
    "        <h1>Table Relations</h1>\n",
    "        {relations}\n",
    "    </body>\n",
    "</html>\n",
    "'''\n",
    "    return _html_template"
   ]
  },
  {
   "cell_type": "markdown",
   "id": "e6ed03b3-85ee-433c-89f4-0c2d8716206c",
   "metadata": {},
   "source": [
    "# Generate Relation"
   ]
  },
  {
   "cell_type": "code",
   "execution_count": null,
   "id": "23f76c8d-42ed-44d7-b46c-dfd2ab4e6d0a",
   "metadata": {
    "tags": []
   },
   "outputs": [],
   "source": [
    "def _prepare_table_relations():\n",
    "    \"\"\"\n",
    "    :returns Table relational information\n",
    "    \"\"\"\n",
    "    show_db_query = \"SHOW TABLES\"\n",
    "    table_relations={}\n",
    "    try:\n",
    "        cnx = _get_db_connection(db_host, db_port, db_user, db_password, db_name)\n",
    "        with cnx.cursor(buffered=True) as cursor:\n",
    "            cursor.execute(show_db_query)\n",
    "            tables = cursor.fetchall()\n",
    "            schema_tables={}\n",
    "            for table in tables:\n",
    "                table_name = table[0]\n",
    "                describe_table=f'DESCRIBE {table_name}'\n",
    "                cursor.execute(describe_table)\n",
    "                column_rows = cursor.fetchall()            \n",
    "                columns=[]\n",
    "                pricolumns=[]\n",
    "                for column_row in column_rows:\n",
    "                    column_row_lower=[str(x).lower() for x in column_row]\n",
    "                    columns.append(column_row_lower)\n",
    "                    if column_row_lower[3] == 'pri':\n",
    "                        pricolumns.append(column_row_lower)\n",
    "                schema_tables[table_name]={\n",
    "                    'columns':columns,\n",
    "                    'pricolumns': pricolumns, \n",
    "                }        \n",
    "            print(\"Schema collection processing done\")\n",
    " \n",
    "            for key in schema_tables.keys():\n",
    "                table = schema_tables[key]\n",
    "                columns = table['columns']\n",
    "                pricolumns = table['pricolumns']\n",
    "\n",
    "                relations={}\n",
    "                for pricolumn in pricolumns:\n",
    "                    r_tables=[]\n",
    "                    for i_key in schema_tables.keys():\n",
    "                        if key != i_key:\n",
    "                            i_table = schema_tables[i_key]\n",
    "                            for i_column in i_table['columns']:\n",
    "                                if pricolumn[0] == i_column[0]:\n",
    "                                    r_tables.append(i_key)\n",
    "                    if len(r_tables) > 0:\n",
    "                        relations[pricolumn[0]]=r_tables\n",
    "\n",
    "                if len(relations) > 0:\n",
    "                    table_relations[key]=relations    \n",
    "\n",
    "        cursor.close()\n",
    "        cnx.close()\n",
    "    except Error as e:\n",
    "        print(e)\n",
    "    return table_relations"
   ]
  },
  {
   "cell_type": "code",
   "execution_count": null,
   "id": "2ac06937-711f-481c-8ea4-f72d5b2aaaee",
   "metadata": {
    "tags": []
   },
   "outputs": [],
   "source": [
    "def _create_file(html):\n",
    "    file_name=f\"generated/{db_name}_table_relations.html\"\n",
    "    if not os.path.exists(\"generated\"):\n",
    "        os.makedirs(\"generated\")\n",
    "    with open(file_name, 'w') as f:\n",
    "        f.write(BeautifulSoup(html, 'html.parser').prettify())"
   ]
  },
  {
   "cell_type": "code",
   "execution_count": null,
   "id": "f10c31a7-3d72-44f7-801c-e5fb8bc587cd",
   "metadata": {
    "tags": []
   },
   "outputs": [],
   "source": [
    "def _export_table_relations_as_html(table_relations):\n",
    "    relational_table = '<table><th>Table Name</th><th>Relational Column</th><th>Relational Tables</th>'\n",
    "    \n",
    "    for table_name, related_tables in table_relations.items():\n",
    "        for rel_column, rel_tables in related_tables.items():\n",
    "            rel_table_list = ''.join([f\"<li>{r_table}</li>\" for r_table in rel_tables])\n",
    "            relational_table += f\"<tr><td>{table_name}</td><td>{rel_column}</td><td><ul>{rel_table_list}</ul></td></tr>\"\n",
    "    \n",
    "    relational_table += '</table>'\n",
    "    html = _get_html_template().format(relations=relational_table)\n",
    "    \n",
    "    # Create File (Assuming db_name is defined somewhere in your code)\n",
    "    _create_file(html)"
   ]
  },
  {
   "cell_type": "code",
   "execution_count": null,
   "id": "78c50bac-b888-4381-a268-e3e24f3f7491",
   "metadata": {
    "tags": []
   },
   "outputs": [],
   "source": [
    "if __name__ == \"__main__\":\n",
    "    print(\"Export Table Relational Information in HTML format - Started ...\")\n",
    "    table_relations = _prepare_table_relations_to_be_removed()\n",
    "    _export_table_relations_as_html(table_relations)\n",
    "    print(\"Export Table Relational Information in HTML format - Ended - Successfully\")"
   ]
  }
 ],
 "metadata": {
  "kernelspec": {
   "display_name": "Python 3 (ipykernel)",
   "language": "python",
   "name": "python3"
  },
  "language_info": {
   "codemirror_mode": {
    "name": "ipython",
    "version": 3
   },
   "file_extension": ".py",
   "mimetype": "text/x-python",
   "name": "python",
   "nbconvert_exporter": "python",
   "pygments_lexer": "ipython3",
   "version": "3.11.4"
  }
 },
 "nbformat": 4,
 "nbformat_minor": 5
}
