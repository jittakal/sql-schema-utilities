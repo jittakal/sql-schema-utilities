{
 "cells": [
  {
   "cell_type": "markdown",
   "id": "0b9c98cd-7dc5-460e-9b04-47c876f6b1bc",
   "metadata": {},
   "source": [
    "# Export Table Schema Information as a HTML"
   ]
  },
  {
   "cell_type": "code",
   "execution_count": null,
   "id": "d7a0b119-e69d-4e84-871d-ed8d8e019535",
   "metadata": {
    "tags": []
   },
   "outputs": [],
   "source": [
    "# Install the required libraries for newly created environment - only once\n",
    "\n",
    "#!pip install mysql-connector-python\n",
    "#!pip install pandas"
   ]
  },
  {
   "cell_type": "code",
   "execution_count": null,
   "id": "aa1de59e-e226-45ff-b626-8ea388def54b",
   "metadata": {
    "tags": []
   },
   "outputs": [],
   "source": [
    "# Import required libraries\n",
    "import os\n",
    "import mysql.connector\n",
    "import pandas as pd"
   ]
  },
  {
   "cell_type": "code",
   "execution_count": null,
   "id": "506a3094-bae3-4e55-a2b0-2d8324b41708",
   "metadata": {
    "tags": []
   },
   "outputs": [],
   "source": [
    "from bs4 import BeautifulSoup\n",
    "from mysql.connector import connect, Error"
   ]
  },
  {
   "cell_type": "code",
   "execution_count": null,
   "id": "04c61d6f-4a2a-4a24-9d31-44f60400eb7d",
   "metadata": {
    "tags": []
   },
   "outputs": [],
   "source": [
    "# Configure username, password and database details\n",
    "db_user = \"<<user_name>>\"\n",
    "db_password = \"<<user_password\"\"\n",
    "bd_host = \"<<host_name>>\"\n",
    "db_port = \"<<port>>\"\n",
    "db_name = \"<<database_name>>\""
   ]
  },
  {
   "cell_type": "code",
   "execution_count": null,
   "id": "1f07de7b-02bc-4c73-b70d-aedf2db5c05d",
   "metadata": {
    "tags": []
   },
   "outputs": [],
   "source": [
    "# Function to establish a database connection\n",
    "def _get_db_connection(db_host, db_port, db_user, db_password, db_name):\n",
    "    \"\"\"\n",
    "    Establish a database connection and return the connection object.\n",
    "\n",
    "    Args:\n",
    "        db_host (str): The host address of the database server.\n",
    "        db_port (int): The port number for the database server.\n",
    "        db_user (str): The username for connecting to the database.\n",
    "        db_password (str): The password for the database user.\n",
    "        db_name (str): The name of the database to connect to.\n",
    "\n",
    "    Returns:\n",
    "        Connection: A database connection object.\n",
    "\n",
    "    Returns None if an error occurs during connection.\n",
    "    \"\"\"\n",
    "    try:\n",
    "        cnx = connect(\n",
    "            host=db_host,\n",
    "            port=db_port,\n",
    "            user=db_user,\n",
    "            password=db_password, \n",
    "            database=db_name)\n",
    "        return cnx\n",
    "    except Error as e:\n",
    "        print(f\"Error: {e}\")\n",
    "        return None"
   ]
  },
  {
   "cell_type": "code",
   "execution_count": null,
   "id": "94b78def-b662-414d-950c-ff329c17dee3",
   "metadata": {
    "tags": []
   },
   "outputs": [],
   "source": [
    "# Uncomment to validate database connection issue\n",
    "\n",
    "#cnx = _get_db_connection(db_host, db_port, db_user, db_password, db_name)\n",
    "#if cnx is not None:\n",
    "#    print(\"Database connection - successful\")\n",
    "#else:\n",
    "#    print(\"Database connection - failure\")"
   ]
  },
  {
   "cell_type": "code",
   "execution_count": null,
   "id": "c1ec2aea-7ede-4b03-862d-5afc2088d66c",
   "metadata": {
    "tags": []
   },
   "outputs": [],
   "source": [
    "# Function to get html template\n",
    "def _get_html_template():\n",
    "    \"\"\"\n",
    "    :return HTML Template\n",
    "    \"\"\"\n",
    "    _html_template = '''\n",
    "<!DOCTYPE html>\n",
    "<html lang=\"en\">\n",
    "    <head>\n",
    "        <title>Database Schema Tables Information</title>\n",
    "        <style>\n",
    "            .dataframe {{\n",
    "                font-size: 11pt; \n",
    "                font-family: Arial;\n",
    "                border-collapse: collapse; \n",
    "                border: 1px solid silver;\n",
    "            }}\n",
    "            .dataframe thead > tr {{\n",
    "                background: #c1cfff;\n",
    "            }}\n",
    "            .dataframe td, th {{\n",
    "                padding: 5px;\n",
    "            }}\n",
    "            .dataframe tr:nth-child(even) {{\n",
    "                background: #e9f0ff;\n",
    "            }}\n",
    "            .dataframe tr:hover {{\n",
    "                background: #83afff;\n",
    "                cursor: pointer;\n",
    "            }}\n",
    "        </style>\n",
    "    </head>\n",
    "    <body>\n",
    "        {tables}        \n",
    "    </body>\n",
    "</html>\n",
    "'''\n",
    "    return _html_template"
   ]
  },
  {
   "cell_type": "code",
   "execution_count": null,
   "id": "b31bec64-935a-4ee2-a673-4d9111d5c010",
   "metadata": {
    "tags": []
   },
   "outputs": [],
   "source": [
    "def _get_table_div_template():\n",
    "    \"\"\"\n",
    "    :return HTML Table Div Template\n",
    "    \"\"\"\n",
    "    _table_div_template = '''\n",
    "<div class=\"sqltable\">\n",
    "    <h2>\n",
    "        {tablename}\n",
    "    </h2>\n",
    "    {table}        \n",
    "</div>\n",
    "'''\n",
    "    return _table_div_template"
   ]
  },
  {
   "cell_type": "markdown",
   "id": "3ad040a7-1cbc-4e82-b5af-abae74d20bc9",
   "metadata": {},
   "source": [
    "# Generate html "
   ]
  },
  {
   "cell_type": "code",
   "execution_count": null,
   "id": "a1a0add4-600f-45d4-ad71-7f2645ec80c0",
   "metadata": {
    "tags": []
   },
   "outputs": [],
   "source": [
    "def _create_file(html):\n",
    "    file_name=f\"generated/{db_name}_schema_information.html\" \n",
    "    if not os.path.exists(\"generated\"):\n",
    "        os.makedirs(\"generated\")\n",
    "    with open(file_name, 'w') as f:\n",
    "        f.write(BeautifulSoup(html, 'html.parser').prettify())"
   ]
  },
  {
   "cell_type": "code",
   "execution_count": null,
   "id": "c3fe5967-ba70-4395-851f-87906c39a74e",
   "metadata": {
    "tags": []
   },
   "outputs": [],
   "source": [
    "def _export_table_schema_as_html(db_host, db_port, db_user, db_password, db_name):\n",
    "    \"\"\"\n",
    "    \"\"\"\n",
    "    show_db_query = \"SHOW TABLES\"\n",
    "    try:\n",
    "        cnx = _get_db_connection(db_host, db_port, db_user, db_password, db_name)\n",
    "        with cnx.cursor(buffered=True) as cursor:\n",
    "            cursor.execute(show_db_query)\n",
    "            tables = cursor.fetchall()\n",
    "            html_tables={}\n",
    "            for table in tables:\n",
    "                #print(table)\n",
    "                table_name = table[0]           \n",
    "                describe_table=f'DESCRIBE {table_name}'\n",
    "                cursor.execute(describe_table)\n",
    "                column_rows = cursor.fetchall()            \n",
    "                schemas=[]\n",
    "                for column_row in column_rows:\n",
    "                    #print([str(x).lower() for x in column_row])\n",
    "                    schemas.append([str(x).lower() for x in column_row])\n",
    "                df = pd.DataFrame(schemas,columns=['Field','Type','Null','Key','Default','Extra'])\n",
    "                df.index = df.index + 1\n",
    "                html_table = df.to_html(justify=\"left\")\n",
    "                html_tables[table_name]=html_table\n",
    "                #print(html_table)\n",
    "\n",
    "            div_tables=''\n",
    "            i=1\n",
    "            for key in html_tables.keys():\n",
    "                div_tables += _get_table_div_template().format(tablename=\"{0}. {1}\".format(i,key), table=html_tables[key])\n",
    "                i+=1\n",
    "            \n",
    "            # Create File\n",
    "            _create_file(_get_html_template().format(tables=div_tables))\n",
    "\n",
    "        cursor.close()\n",
    "        cnx.close()\n",
    "        return None\n",
    "    except Error as e:\n",
    "        return f\"Failied to export the table information in HTML format. Error: {e}\" "
   ]
  },
  {
   "cell_type": "code",
   "execution_count": null,
   "id": "b89e45ca-ed43-4c8d-9674-79e37318227f",
   "metadata": {
    "tags": []
   },
   "outputs": [],
   "source": [
    "if __name__ == \"__main__\":\n",
    "    print(\"Export Table Schema Information in HTML format - Started ...\")\n",
    "    errorMessage = _export_table_schema_as_html(db_host, db_port, db_user, db_password, db_name)\n",
    "    if errorMessage is not None:\n",
    "        print(\"Export Table Schema Information in HTML format - Failed\")\n",
    "    print(\"Export Table Schema Information in HTML format - Ended - Successfully\")"
   ]
  }
 ],
 "metadata": {
  "kernelspec": {
   "display_name": "Python 3 (ipykernel)",
   "language": "python",
   "name": "python3"
  },
  "language_info": {
   "codemirror_mode": {
    "name": "ipython",
    "version": 3
   },
   "file_extension": ".py",
   "mimetype": "text/x-python",
   "name": "python",
   "nbconvert_exporter": "python",
   "pygments_lexer": "ipython3",
   "version": "3.11.4"
  }
 },
 "nbformat": 4,
 "nbformat_minor": 5
}
