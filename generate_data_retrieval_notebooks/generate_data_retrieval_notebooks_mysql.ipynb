{
 "cells": [
  {
   "cell_type": "markdown",
   "id": "9880213b-b647-451f-8726-48c33cc82271",
   "metadata": {},
   "source": [
    "# Data Retrieval - Jupyter Notebook Generator"
   ]
  },
  {
   "cell_type": "code",
   "execution_count": null,
   "id": "9dc2b25a-6f39-4e15-9719-75b04a8bfe63",
   "metadata": {
    "tags": []
   },
   "outputs": [],
   "source": [
    "# Install the required libraries for newly created environment - only once\n",
    "\n",
    "#!pip install pandas\n",
    "#!pip install sqlalchemy\n",
    "#!pip install pymysql\n",
    "#!pip install sqlparse"
   ]
  },
  {
   "cell_type": "code",
   "execution_count": null,
   "id": "3e5f0e68-3c1a-4fe0-9821-9066634f5eac",
   "metadata": {
    "tags": []
   },
   "outputs": [],
   "source": [
    "# Import required libraries\n",
    "import base64\n",
    "import os\n",
    "import sqlalchemy\n",
    "import sqlparse\n",
    "\n",
    "import pandas as pd\n",
    "import nbformat as nbf\n",
    "\n",
    "from sqlalchemy import create_engine\n",
    "from nbformat.v4 import new_code_cell, new_markdown_cell"
   ]
  },
  {
   "cell_type": "code",
   "execution_count": null,
   "id": "be6ca402-01cf-41bc-a4f8-2b122dd58703",
   "metadata": {
    "tags": []
   },
   "outputs": [],
   "source": [
    "# Configure username, password and database details\n",
    "db_user = \"<<user_name>>\"\n",
    "db_password = \"<<user_password>>\"\n",
    "db_host = \"<<host_name>>\"\n",
    "db_port = \"<<port>>\"\n",
    "db_name = \"<<database_name>>\""
   ]
  },
  {
   "cell_type": "code",
   "execution_count": null,
   "id": "1ddbbd95-8778-4f6a-80ef-89b3938bbe50",
   "metadata": {
    "tags": []
   },
   "outputs": [],
   "source": [
    "# Connection details\n",
    "connection_string = f\"mysql+pymysql://{db_user}:{db_password}@{db_host}:{db_port}/{db_name}\""
   ]
  },
  {
   "cell_type": "code",
   "execution_count": null,
   "id": "89fe48d2-048b-41bd-9bfb-d582e8de425a",
   "metadata": {
    "tags": []
   },
   "outputs": [],
   "source": [
    "# Establish the connection - uncomment to validate connection\n",
    "# engine = create_engine(connection_string)"
   ]
  },
  {
   "cell_type": "code",
   "execution_count": null,
   "id": "0002b83b-fae1-483a-a258-6194d832701a",
   "metadata": {
    "tags": []
   },
   "outputs": [],
   "source": [
    "# Function to prepare the schema information in table and its index details\n",
    "def prepare_schema_info(connection):\n",
    "    tables_df = pd.read_sql(\"SHOW TABLES;\", connection)\n",
    "    tables = tables_df.iloc[:, 0]\n",
    "\n",
    "    schema_info = {}\n",
    "    for table in tables:\n",
    "        indexes_df = pd.read_sql(f\"SHOW INDEXES FROM {table};\", connection)\n",
    "        schema_info[table] = indexes_df\n",
    "\n",
    "    return schema_info"
   ]
  },
  {
   "cell_type": "code",
   "execution_count": null,
   "id": "1334e2bb-ccc9-4e47-91bb-37fe0f46ecdd",
   "metadata": {
    "tags": []
   },
   "outputs": [],
   "source": [
    "# Get the schema information - Uncomment to validate\n",
    "# schema_info = prepare_schema_info(engine)\n",
    "# schema_info"
   ]
  },
  {
   "cell_type": "code",
   "execution_count": null,
   "id": "aba5ae73-095d-4072-b032-ca544d595fa1",
   "metadata": {
    "tags": []
   },
   "outputs": [],
   "source": [
    "# Function to prepare vairous SELECT queries based on indexes (including composite indexes) with parameterized queries\n",
    "def prepare_select_queries(schema_info):\n",
    "    select_queries_map = {}  # Use a dictionary to store queries for each table\n",
    "    unique_indexes = set()\n",
    "    \n",
    "    for table, indexes_df in schema_info.items():\n",
    "        select_queries_set = set()  # Use a set to store unique queries for each table\n",
    "\n",
    "        for index_name, group in indexes_df.groupby(\"Key_name\"):\n",
    "            if index_name in unique_indexes:  # Skip if we have already processed this index\n",
    "                continue\n",
    "\n",
    "            unique_indexes.add(index_name)\n",
    "\n",
    "            non_unique = group[\"Non_unique\"].iloc[0]  # Since it's the same for the whole index\n",
    "\n",
    "            # Check if it's a composite index with more than one column\n",
    "            composite_columns = group[\"Column_name\"].tolist()\n",
    "\n",
    "            if index_name == \"PRIMARY\" or non_unique == 0:  # Primary key or unique index\n",
    "                # Create the WHERE clause for composite indexes using the AND operator\n",
    "                where_clause = \" AND \".join([f\"{col} = :{col}\" for col in composite_columns])\n",
    "                query = f\"SELECT * FROM {table} WHERE {where_clause};\"\n",
    "            else:  # Non-unique index\n",
    "                query = f\"SELECT * FROM {table} WHERE {composite_columns[0]} = :{composite_columns[0]};\"\n",
    "\n",
    "            select_queries_set.add(query)  # Use add() to add unique queries to the set\n",
    "        \n",
    "        #if select_queries_set:  # Only add entry to the dictionary if the set is not empty\n",
    "        select_queries_map[table] = select_queries_set\n",
    "\n",
    "    return select_queries_map"
   ]
  },
  {
   "cell_type": "code",
   "execution_count": null,
   "id": "a96f9583-a25f-4e5e-a590-3261c176e6d3",
   "metadata": {
    "tags": []
   },
   "outputs": [],
   "source": [
    "# Prepare Table specific queries - Uncomment to validate map\n",
    "# select_queries_map = prepare_select_queries(schema_info)\n",
    "# select_queries_map"
   ]
  },
  {
   "cell_type": "code",
   "execution_count": null,
   "id": "1b503b87-8bfa-4553-8b84-46337e37cfeb",
   "metadata": {
    "tags": []
   },
   "outputs": [],
   "source": [
    "header_markdown = \"# Data Retrieval Notebook for Table: {table}\""
   ]
  },
  {
   "cell_type": "code",
   "execution_count": null,
   "id": "423ca285-1f09-4b22-847c-1316c427195a",
   "metadata": {
    "tags": []
   },
   "outputs": [],
   "source": [
    "import_statment_code = f\"\"\"# Import required library packages\n",
    "import base64\n",
    "import pandas as pd\n",
    "from sqlalchemy import create_engine, text\n",
    "\"\"\""
   ]
  },
  {
   "cell_type": "code",
   "execution_count": null,
   "id": "b79498bc-0a70-48e4-ae0f-7a6585b87833",
   "metadata": {
    "tags": []
   },
   "outputs": [],
   "source": [
    "connection_string_code = \"\"\"# Connection details\n",
    "connection_string = {connection_string}\n",
    "\"\"\""
   ]
  },
  {
   "cell_type": "code",
   "execution_count": null,
   "id": "417c38a8-cc1e-4389-bc72-79b461011d24",
   "metadata": {
    "tags": []
   },
   "outputs": [],
   "source": [
    "create_engine_code = \"\"\"# Establish the connection\n",
    "engine = create_engine(base64.b64decode(connection_string).decode(\"ascii\"))\n",
    "\"\"\""
   ]
  },
  {
   "cell_type": "code",
   "execution_count": null,
   "id": "f2aed8cf-e87a-400e-8bae-aa8695d61998",
   "metadata": {
    "tags": []
   },
   "outputs": [],
   "source": [
    "format_sql_query_func_code = \"\"\"# Format SQL Query\n",
    "def format_sql_query(query):\n",
    "    formatted_query = sqlparse.format(query, reindent=True, keyword_case=\"upper\")\n",
    "    return formatted_query.strip()\n",
    "\"\"\""
   ]
  },
  {
   "cell_type": "code",
   "execution_count": null,
   "id": "294e1367-2513-495c-837c-93858715f969",
   "metadata": {
    "tags": []
   },
   "outputs": [],
   "source": [
    "exec_sql_query_func_code=\"\"\"# Execute Select Query\n",
    "def exec_sql_query(sql=None, con=engine, params=None):\n",
    "    df = pd.read_sql_query(sql=text(query), con=engine, params=params)\n",
    "    df_filtered = df.dropna(axis=1, how='all')\n",
    "    return (df, df_filtered)\n",
    "\"\"\""
   ]
  },
  {
   "cell_type": "code",
   "execution_count": null,
   "id": "1dea2c67-4996-4f5f-98b2-2ac54adfbf13",
   "metadata": {
    "tags": []
   },
   "outputs": [],
   "source": [
    "parameter_variable_def_code=\"# Parameter variables for {table}\\n{param_vars_code}\""
   ]
  },
  {
   "cell_type": "code",
   "execution_count": null,
   "id": "ddb35bf7-6b2e-48d9-9677-7d70e4b6c2f2",
   "metadata": {
    "tags": []
   },
   "outputs": [],
   "source": [
    "select_all_query_code = \"SELECT * FROM {table} LIMIT 10;\""
   ]
  },
  {
   "cell_type": "code",
   "execution_count": null,
   "id": "e60c29e3-22f4-4489-8f51-09eeecb173f6",
   "metadata": {
    "tags": []
   },
   "outputs": [],
   "source": [
    "engine_dispose_code = \"\"\"# Disconnect\n",
    "engine.dispose()\n",
    "\"\"\""
   ]
  },
  {
   "cell_type": "code",
   "execution_count": null,
   "id": "47ee5cb4-09b0-4b03-8b2f-b55e9a840069",
   "metadata": {
    "tags": []
   },
   "outputs": [],
   "source": [
    "exec_sql_code = \"\"\"# Execute sql query and display\n",
    "df, df_filtered = exec_sql_query(sql=text(query), con=engine, params=parameters)\n",
    "\"\"\""
   ]
  },
  {
   "cell_type": "code",
   "execution_count": null,
   "id": "0149872a-0655-4731-826a-bcf4fba1ed23",
   "metadata": {
    "tags": []
   },
   "outputs": [],
   "source": [
    "pandas_df_code = \"\"\"# Display information\n",
    "df_filtered.head()\n",
    "\"\"\""
   ]
  },
  {
   "cell_type": "code",
   "execution_count": null,
   "id": "881108d7-ad60-431a-954d-c7384559b920",
   "metadata": {
    "tags": []
   },
   "outputs": [],
   "source": [
    "# Function to format given query\n",
    "\n",
    "def format_sql_query(query):\n",
    "    formatted_query = sqlparse.format(query, reindent=True, keyword_case=\"upper\")\n",
    "    return formatted_query.strip()"
   ]
  },
  {
   "cell_type": "code",
   "execution_count": null,
   "id": "a029e789-7c89-4a36-b13e-fc25face67fa",
   "metadata": {
    "tags": []
   },
   "outputs": [],
   "source": [
    "def append_markdown_cell(nb, markdown_content):\n",
    "    nb.cells.append(nbf.v4.new_markdown_cell(source=markdown_content))"
   ]
  },
  {
   "cell_type": "code",
   "execution_count": null,
   "id": "270860d0-69cb-4e0e-9b85-391ededfd2e7",
   "metadata": {
    "tags": []
   },
   "outputs": [],
   "source": [
    "def append_code_cell(nb, code_content):\n",
    "    nb.cells.append(nbf.v4.new_code_cell(source=code_content))"
   ]
  },
  {
   "cell_type": "code",
   "execution_count": null,
   "id": "53892570-77bf-44c8-becd-1c0e0864bf60",
   "metadata": {
    "tags": []
   },
   "outputs": [],
   "source": [
    "def extract_parameters_from_query(query):\n",
    "    # Split the query into words\n",
    "    words = query.split()\n",
    "\n",
    "    # Extract words starting with ':'\n",
    "    parameters = [word[1:] for word in words if word.startswith(':')]\n",
    "\n",
    "    # Remove \";\" from the parameter values and convert to lowercase\n",
    "    parameters = [param.rstrip(';') for param in parameters]\n",
    "\n",
    "    return parameters"
   ]
  },
  {
   "cell_type": "code",
   "execution_count": null,
   "id": "8522b054-2232-4cb7-8278-fcab8663ea9a",
   "metadata": {
    "tags": []
   },
   "outputs": [],
   "source": [
    "def get_unique_parameters(queries):\n",
    "    unique_parameters = set()\n",
    "    for query in queries:\n",
    "        parameters = extract_parameters_from_query(query)\n",
    "        unique_parameters.update(parameters)\n",
    "    return unique_parameters"
   ]
  },
  {
   "cell_type": "code",
   "execution_count": null,
   "id": "cf755d54-bec9-4171-8232-aeadf0ce1482",
   "metadata": {
    "tags": []
   },
   "outputs": [],
   "source": [
    "def append_query_cells(nb, table, query):\n",
    "    parameters = extract_parameters_from_query(query)\n",
    "    #query = query.lower()\n",
    "    formatted_query = format_sql_query(query)\n",
    "    \n",
    "    # Query as a Markdown Cell\n",
    "    query_markdown = f\"```sql\\n{formatted_query}\\n```\"\n",
    "    append_markdown_cell(nb, query_markdown)\n",
    "\n",
    "    # Assign SQL query to variable\n",
    "    query_cell_code = f\"query = \\\\\\n\\\"\\\"\\\"\\n{formatted_query}\\n\\\"\\\"\\\"\\n\"\n",
    "    append_code_cell(nb, f\"# Query for {table}\\n{query_cell_code}\")\n",
    "\n",
    "    # Parameterzied SQL query\n",
    "    param_str = \", \".join(f'\"{param}\": {param}' for param in parameters)\n",
    "    param_cell_code = f\"# Parameters for {table}\\nparameters = {{{param_str}}}\"\n",
    "    append_code_cell(nb, param_cell_code)\n",
    "\n",
    "    # Function to execute SQL Query\n",
    "    append_code_cell(nb, exec_sql_code)\n",
    "    \n",
    "    # Display Dataframe by head function\n",
    "    append_code_cell(nb, pandas_df_code)"
   ]
  },
  {
   "cell_type": "code",
   "execution_count": null,
   "id": "be86c59b-22be-4ded-8da9-7cba904da8a7",
   "metadata": {
    "tags": []
   },
   "outputs": [],
   "source": [
    "def append_select_all_query_cells(nb, table, unique_parameters):\n",
    "    if unique_parameters:\n",
    "        param_vars_code = \"\\n\".join(f\"{param} = ''\" for param in unique_parameters)\n",
    "        append_code_cell(nb, f\"# Parameter variables for {table}\\n{param_vars_code}\")\n",
    "\n",
    "    append_query_cells(nb, table, select_all_query_code.format(table=table))"
   ]
  },
  {
   "cell_type": "code",
   "execution_count": null,
   "id": "2f0c1a94-8afa-4b8c-b00e-a0ee02e9416d",
   "metadata": {
    "tags": []
   },
   "outputs": [],
   "source": [
    "def generate_data_retrieval_notebook(table, queries):\n",
    "    nb = nbf.v4.new_notebook()\n",
    "    nb.metadata.kernelspec = {\n",
    "        \"name\": \"python3\",\n",
    "        \"display_name\": \"Python 3\",\n",
    "        \"language\": \"python\"\n",
    "    }\n",
    "    \n",
    "    # Header markdown\n",
    "    append_markdown_cell(nb, header_markdown.format(table=table))\n",
    "    \n",
    "    # Import statements\n",
    "    append_code_cell(nb, import_statment_code)\n",
    "    \n",
    "    # Set Connection string\n",
    "    connection_string = base64.b64encode(f\"mysql+pymysql://{username}:{password}@{hostname}:{port}/{database_name}\".encode(\"ascii\"))\n",
    "    append_code_cell(nb, connection_string_code.format(connection_string=connection_string))\n",
    "    \n",
    "    # Create Connection\n",
    "    append_code_cell(nb, create_engine_code)\n",
    "    \n",
    "    # Format SQL Query function\n",
    "    append_code_cell(nb, format_sql_query_func_code)\n",
    "    \n",
    "    # Execute SQL Query Function\n",
    "    append_code_cell(nb, exec_sql_query_func_code)\n",
    "    \n",
    "    # Select All Records with Limit\n",
    "    unique_parameters = get_unique_parameters(queries)\n",
    "    append_select_all_query_cells(nb, table, unique_parameters)\n",
    "    \n",
    "    # For each Query Append Cells\n",
    "    for query in queries:\n",
    "        append_query_cells(nb, table, query)\n",
    "    \n",
    "    # Disconnect SQL Connection\n",
    "    append_code_cell(nb, engine_dispose_code)\n",
    "    \n",
    "    if not os.path.exists(f'generated/{database_name}'):\n",
    "        os.makedirs(f'generated/{database_name}')\n",
    "\n",
    "    file_name = f\"generated/{database_name}/{table}.ipynb\"\n",
    "    nbf.write(nb, file_name)"
   ]
  },
  {
   "cell_type": "code",
   "execution_count": null,
   "id": "3c4c26f1-0278-4381-817a-8e6450f83dcc",
   "metadata": {
    "tags": []
   },
   "outputs": [],
   "source": [
    "def generate_data_retrieval_notebooks(select_queries_map):\n",
    "    for table, queries in select_queries_map.items():\n",
    "        generate_data_retrieval_notebook(table, queries)"
   ]
  },
  {
   "cell_type": "code",
   "execution_count": null,
   "id": "a872e26d-38c4-4c0e-abc3-0b8ac363bf99",
   "metadata": {
    "tags": []
   },
   "outputs": [],
   "source": [
    "if __name__ == \"__main__\":\n",
    "    print(\"Generating Data Retrieval Notebooks - Started ...\")\n",
    "    engine = create_engine(connection_string)\n",
    "    schema_info = prepare_schema_info(engine)\n",
    "    select_queries_map = prepare_select_queries(schema_info)\n",
    "    generate_data_retrieval_notebooks(select_queries_map)\n",
    "    engine.dispose()\n",
    "    print(\"Generating Data Retrieval Notebooks - Finished\")"
   ]
  }
 ],
 "metadata": {
  "kernelspec": {
   "display_name": "Python 3 (ipykernel)",
   "language": "python",
   "name": "python3"
  },
  "language_info": {
   "codemirror_mode": {
    "name": "ipython",
    "version": 3
   },
   "file_extension": ".py",
   "mimetype": "text/x-python",
   "name": "python",
   "nbconvert_exporter": "python",
   "pygments_lexer": "ipython3",
   "version": "3.11.4"
  }
 },
 "nbformat": 4,
 "nbformat_minor": 5
}
